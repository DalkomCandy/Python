{
 "cells": [
  {
   "cell_type": "code",
   "execution_count": 2,
   "id": "9e635d60",
   "metadata": {},
   "outputs": [
    {
     "name": "stderr",
     "output_type": "stream",
     "text": [
      "'jt-r'은(는) 내부 또는 외부 명령, 실행할 수 있는 프로그램, 또는\n",
      "배치 파일이 아닙니다.\n"
     ]
    }
   ],
   "source": [
    "!jt-r"
   ]
  },
  {
   "cell_type": "code",
   "execution_count": 6,
   "id": "87f7c168",
   "metadata": {},
   "outputs": [],
   "source": [
    "from yahoofinancials import YahooFinancials as yf\n",
    "import yahoo_fin.stock_info as si"
   ]
  },
  {
   "cell_type": "code",
   "execution_count": 11,
   "id": "49c3775b",
   "metadata": {},
   "outputs": [],
   "source": [
    "stock = 'MSFT'\n",
    "df = yf(stock)\n",
    "\n",
    "eps_dict = df.get_earnings_per_share()"
   ]
  },
  {
   "cell_type": "code",
   "execution_count": 13,
   "id": "87fddcec",
   "metadata": {},
   "outputs": [
    {
     "name": "stdout",
     "output_type": "stream",
     "text": [
      "17.40%\n"
     ]
    }
   ],
   "source": [
    "cagr = si.get_analysts_info(stock)['Growth Estimates'][stock][4]\n",
    "print(cagr)"
   ]
  },
  {
   "cell_type": "code",
   "execution_count": 9,
   "id": "eca6faeb",
   "metadata": {},
   "outputs": [
    {
     "name": "stdout",
     "output_type": "stream",
     "text": [
      "9.389000758404203\n"
     ]
    }
   ],
   "source": [
    "print(eps_dict)"
   ]
  }
 ],
 "metadata": {
  "kernelspec": {
   "display_name": "Python 3 (ipykernel)",
   "language": "python",
   "name": "python3"
  },
  "language_info": {
   "codemirror_mode": {
    "name": "ipython",
    "version": 3
   },
   "file_extension": ".py",
   "mimetype": "text/x-python",
   "name": "python",
   "nbconvert_exporter": "python",
   "pygments_lexer": "ipython3",
   "version": "3.9.7"
  }
 },
 "nbformat": 4,
 "nbformat_minor": 5
}
