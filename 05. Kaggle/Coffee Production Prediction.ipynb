{
 "cells": [
  {
   "cell_type": "code",
   "execution_count": 170,
   "id": "97f3ee36",
   "metadata": {},
   "outputs": [],
   "source": [
    "import numpy as np\n",
    "import pandas as pd\n",
    "\n",
    "from sklearn.model_selection import train_test_split\n",
    "from sklearn.preprocessing import StandardScaler\n",
    "from sklearn.metrics import accuracy_score\n",
    "\n",
    "from sklearn.ensemble import RandomForestRegressor\n",
    "\n",
    "import matplotlib.pyplot as plt"
   ]
  },
  {
   "cell_type": "markdown",
   "id": "42689484",
   "metadata": {},
   "source": [
    "###  predict the average production of coffee in a given country."
   ]
  },
  {
   "cell_type": "code",
   "execution_count": 51,
   "id": "bb7ea854",
   "metadata": {},
   "outputs": [],
   "source": [
    "df_paths = [\n",
    "    './Coffee Production Prediction/domestic-consumption.csv',\n",
    "    './Coffee Production Prediction/exports-calendar-year.csv',\n",
    "    './Coffee Production Prediction/exports-crop-year.csv',\n",
    "    './Coffee Production Prediction/gross-opening-stocks.csv',\n",
    "    './Coffee Production Prediction/total-production.csv'\n",
    "]"
   ]
  },
  {
   "cell_type": "code",
   "execution_count": 128,
   "id": "12a71de0",
   "metadata": {},
   "outputs": [],
   "source": [
    "df0 = pd.read_csv(df_paths[0]) # Domestic_consumption\n",
    "df1 = pd.read_csv(df_paths[1]) # Exports of all forms of coffee by all exporting countries (In thousand 60-kg bags)\n",
    "df2 = pd.read_csv(df_paths[2]) # Total exports by all exporting countries (In thousand 60-kg bags)\n",
    "df3 = pd.read_csv(df_paths[3])\n",
    "df4 = pd.read_csv(df_paths[4])\n",
    "\n",
    "total_df = [df0, df1, df2, df3, df4]"
   ]
  },
  {
   "cell_type": "code",
   "execution_count": 134,
   "id": "46715c3d",
   "metadata": {},
   "outputs": [
    {
     "data": {
      "text/html": [
       "<div>\n",
       "<style scoped>\n",
       "    .dataframe tbody tr th:only-of-type {\n",
       "        vertical-align: middle;\n",
       "    }\n",
       "\n",
       "    .dataframe tbody tr th {\n",
       "        vertical-align: top;\n",
       "    }\n",
       "\n",
       "    .dataframe thead th {\n",
       "        text-align: right;\n",
       "    }\n",
       "</style>\n",
       "<table border=\"1\" class=\"dataframe\">\n",
       "  <thead>\n",
       "    <tr style=\"text-align: right;\">\n",
       "      <th></th>\n",
       "      <th>Country</th>\n",
       "      <th>domestic_consumption</th>\n",
       "      <th>exports</th>\n",
       "      <th>exports_crop_year</th>\n",
       "      <th>gross_opening_stocks</th>\n",
       "      <th>total_production</th>\n",
       "    </tr>\n",
       "  </thead>\n",
       "  <tbody>\n",
       "    <tr>\n",
       "      <th>0</th>\n",
       "      <td>Angola</td>\n",
       "      <td>25.689655</td>\n",
       "      <td>24.115531</td>\n",
       "      <td>23.187083</td>\n",
       "      <td>42.068966</td>\n",
       "      <td>45.256048</td>\n",
       "    </tr>\n",
       "    <tr>\n",
       "      <th>1</th>\n",
       "      <td>Bolivia (Plurinational State of)</td>\n",
       "      <td>41.103448</td>\n",
       "      <td>0.063966</td>\n",
       "      <td>76.904748</td>\n",
       "      <td>7.237931</td>\n",
       "      <td>116.146128</td>\n",
       "    </tr>\n",
       "    <tr>\n",
       "      <th>2</th>\n",
       "      <td>Brazil</td>\n",
       "      <td>15234.310345</td>\n",
       "      <td>78.384152</td>\n",
       "      <td>25919.128803</td>\n",
       "      <td>23213.206897</td>\n",
       "      <td>41067.783976</td>\n",
       "    </tr>\n",
       "    <tr>\n",
       "      <th>3</th>\n",
       "      <td>Burundi</td>\n",
       "      <td>1.891966</td>\n",
       "      <td>25706.195606</td>\n",
       "      <td>356.056321</td>\n",
       "      <td>48.979690</td>\n",
       "      <td>350.172424</td>\n",
       "    </tr>\n",
       "    <tr>\n",
       "      <th>4</th>\n",
       "      <td>Ecuador</td>\n",
       "      <td>214.137931</td>\n",
       "      <td>363.186423</td>\n",
       "      <td>1105.434110</td>\n",
       "      <td>108.592069</td>\n",
       "      <td>1076.504352</td>\n",
       "    </tr>\n",
       "  </tbody>\n",
       "</table>\n",
       "</div>"
      ],
      "text/plain": [
       "                            Country  domestic_consumption       exports  \\\n",
       "0                            Angola             25.689655     24.115531   \n",
       "1  Bolivia (Plurinational State of)             41.103448      0.063966   \n",
       "2                            Brazil          15234.310345     78.384152   \n",
       "3                           Burundi              1.891966  25706.195606   \n",
       "4                           Ecuador            214.137931    363.186423   \n",
       "\n",
       "   exports_crop_year  gross_opening_stocks  total_production  \n",
       "0          23.187083             42.068966         45.256048  \n",
       "1          76.904748              7.237931        116.146128  \n",
       "2       25919.128803          23213.206897      41067.783976  \n",
       "3         356.056321             48.979690        350.172424  \n",
       "4        1105.434110            108.592069       1076.504352  "
      ]
     },
     "execution_count": 134,
     "metadata": {},
     "output_type": "execute_result"
    }
   ],
   "source": [
    "df = pd.DataFrame()\n",
    "df['Country'] = df0['domestic_consumption']\n",
    "\n",
    "for i in total_df:\n",
    "    df[i.columns[0]] = i.T[1:].mean()\n",
    "df.head()"
   ]
  },
  {
   "cell_type": "code",
   "execution_count": 148,
   "id": "cb020dd1",
   "metadata": {},
   "outputs": [],
   "source": [
    "df = df.drop('Country', axis=1)\n",
    "y = df['total_production']\n",
    "X = df.drop('total_production', axis = 1)"
   ]
  },
  {
   "cell_type": "code",
   "execution_count": 165,
   "id": "3f413d9e",
   "metadata": {},
   "outputs": [
    {
     "data": {
      "text/plain": [
       "RandomForestRegressor()"
      ]
     },
     "execution_count": 165,
     "metadata": {},
     "output_type": "execute_result"
    }
   ],
   "source": [
    "X_train, X_test, y_train, y_test = train_test_split(X, y, test_size = 0.2, random_state = 100)\n",
    "scaler = StandardScaler()\n",
    "scaler.fit(X_train)\n",
    "X_train = pd.DataFrame(scaler.transform(X_train), index=X_train.index, columns=X_train.columns)\n",
    "X_test = pd.DataFrame(scaler.transform(X_test), index=X_test.index, columns=X_test.columns)\n",
    "\n",
    "model = RandomForestRegressor()\n",
    "model.fit(X_train, y_train)"
   ]
  },
  {
   "cell_type": "code",
   "execution_count": 172,
   "id": "4241966b",
   "metadata": {},
   "outputs": [
    {
     "name": "stdout",
     "output_type": "stream",
     "text": [
      "R^2: 0.75144\n"
     ]
    }
   ],
   "source": [
    "y_pred = model.predict(X_test)\n",
    "\n",
    "r2 = 1 - (np.sum((y_test - y_pred)**2) / np.sum((y_test - y_test.mean())**2))\n",
    "print(\"R^2: {:.5f}\".format(r2))"
   ]
  },
  {
   "cell_type": "code",
   "execution_count": null,
   "id": "e35911e0",
   "metadata": {},
   "outputs": [],
   "source": []
  }
 ],
 "metadata": {
  "kernelspec": {
   "display_name": "Python 3 (ipykernel)",
   "language": "python",
   "name": "python3"
  },
  "language_info": {
   "codemirror_mode": {
    "name": "ipython",
    "version": 3
   },
   "file_extension": ".py",
   "mimetype": "text/x-python",
   "name": "python",
   "nbconvert_exporter": "python",
   "pygments_lexer": "ipython3",
   "version": "3.9.7"
  }
 },
 "nbformat": 4,
 "nbformat_minor": 5
}
