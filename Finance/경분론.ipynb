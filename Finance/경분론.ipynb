{
 "cells": [
  {
   "cell_type": "code",
   "execution_count": 89,
   "id": "5a8f6723",
   "metadata": {},
   "outputs": [
    {
     "name": "stdout",
     "output_type": "stream",
     "text": [
      "-------- 042700.KS ---------\n",
      "Rf : 3.119\n",
      "ERP : 5.36\n",
      "Beta : 1.1513007916091724\n",
      "E(r) : 9.289972243025165\n",
      "\n",
      "-------- NVDA ---------\n",
      "Rf : 2.8741\n",
      "ERP : 4.24\n",
      "Beta : 1.6197383500870792\n",
      "E(r) : 9.741790604369216\n",
      "\n"
     ]
    }
   ],
   "source": [
    "import yfinance as yf\n",
    "yf.pdr_override()\n",
    "import matplotlib.pyplot as plt\n",
    "\n",
    "import pandas as pd\n",
    "import numpy as np\n",
    "from pandas_datareader import data as pdr\n",
    "import statsmodels.api as sm\n",
    "\n",
    "CODES = ['042700.KS', 'NVDA'] # 원하는 기업 데이터\n",
    "for CODE in CODES:\n",
    "    \n",
    "    if CODE.endswith('.KS'): # 한국 기업이면 코스피 사용\n",
    "        KOSPI_CODE = '^KS11'\n",
    "        RF = 3.119\n",
    "        ERP = 5.36\n",
    "    else:\n",
    "        KOSPI_CODE = '^IXIC' # 다른 나라 기업이면 일단은 미국 기업으로 산정\n",
    "        RF = 2.8741\n",
    "        ERP = 4.24\n",
    "\n",
    "    FIRST = '2017-05-08'\n",
    "    TODAY = '2022-05-06' #dt.strftime(dt.today(),\"%Y-%m-%d\")\n",
    "    INTERVAL ='1wk'\n",
    "    \n",
    "    price = yf.download(CODE, start = FIRST, end = TODAY, interval=INTERVAL, progress=False)\n",
    "    kospi = yf.download(KOSPI_CODE, start = FIRST, end = TODAY, interval=INTERVAL, progress=False)\n",
    "\n",
    "    df_stock = pd.concat([price['Close'], round(price['Close'].pct_change()*100,2)], axis=1)\n",
    "    df_kospi = pd.concat([kospi['Close'], round(kospi['Close'].pct_change()*100,2)], axis=1)\n",
    "\n",
    "    df_stock.columns = ['stock_price', 'stock_pct']\n",
    "    df_stock = df_stock.dropna()\n",
    "\n",
    "    df_kospi.columns = ['kospi_price', 'kospi_pct']\n",
    "    df_kospi = df_kospi.dropna()\n",
    "\n",
    "    df = pd.concat([df_kospi, df_stock], axis=1, join='inner',)\n",
    "\n",
    "    y = df['stock_pct'].values\n",
    "    X = df['kospi_pct'].values\n",
    "\n",
    "    X = X.reshape(-1,1)\n",
    "    y = y.reshape(-1,1)\n",
    "\n",
    "    results = sm.OLS(y, sm.add_constant(X)).fit()\n",
    "    BETA = results.params[1]\n",
    "\n",
    "    print('--------',CODE,'---------')\n",
    "    print('Rf :',RF)\n",
    "    print('ERP :', ERP)\n",
    "    print(\"Beta :\", BETA)\n",
    "\n",
    "    rm = RF + BETA*ERP\n",
    "    print('E(r) :',rm)\n",
    "    print('')"
   ]
  },
  {
   "cell_type": "code",
   "execution_count": null,
   "id": "61543ae0",
   "metadata": {},
   "outputs": [],
   "source": []
  }
 ],
 "metadata": {
  "kernelspec": {
   "display_name": "Python 3 (ipykernel)",
   "language": "python",
   "name": "python3"
  },
  "language_info": {
   "codemirror_mode": {
    "name": "ipython",
    "version": 3
   },
   "file_extension": ".py",
   "mimetype": "text/x-python",
   "name": "python",
   "nbconvert_exporter": "python",
   "pygments_lexer": "ipython3",
   "version": "3.9.7"
  }
 },
 "nbformat": 4,
 "nbformat_minor": 5
}
