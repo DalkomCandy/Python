{
 "cells": [
  {
   "cell_type": "code",
   "execution_count": 67,
   "id": "b53e40bf",
   "metadata": {},
   "outputs": [
    {
     "name": "stdout",
     "output_type": "stream",
     "text": [
      "[*********************100%***********************]  1 of 1 completed\n",
      "[*********************100%***********************]  1 of 1 completed\n"
     ]
    }
   ],
   "source": [
    "import yfinance as yf\n",
    "yf.pdr_override()\n",
    "import matplotlib.pyplot as plt\n",
    "\n",
    "import pandas as pd\n",
    "import numpy as np\n",
    "from pandas_datareader import data as pdr\n",
    "import statsmodels.api as sm\n",
    "\n",
    "CODE = '042700.KS' # 한미반도체 코드\n",
    "KOSPI_CODE = '^KS11'\n",
    "FIRST = '2017-05-08'\n",
    "TODAY = '2022-05-06' #dt.strftime(dt.today(),\"%Y-%m-%d\")\n",
    "INTERVAL ='1wk'\n",
    "\n",
    "RF = 3.119\n",
    "ERP = 5.36\n",
    "\n",
    "price = pdr.get_data_yahoo(CODE, start = FIRST, end = TODAY, interval=INTERVAL)\n",
    "kospi = pdr.get_data_yahoo(KOSPI_CODE, start = FIRST, end = TODAY, interval=INTERVAL)\n",
    "\n",
    "df_stock = pd.concat([price['Close'], round(price['Close'].pct_change()*100,2)], axis=1)\n",
    "df_kospi = pd.concat([kospi['Close'], round(kospi['Close'].pct_change()*100,2)], axis=1)\n",
    "\n",
    "df_stock.columns = ['stock_price', 'stock_pct']\n",
    "df_stock = df_stock.dropna()\n",
    "\n",
    "df_kospi.columns = ['kospi_price', 'kospi_pct']\n",
    "df_kospi = df_kospi.dropna()\n",
    "\n",
    "df = pd.concat([df_kospi, df_stock], axis=1, join='inner',)\n",
    "\n",
    "y = df['stock_pct'].values\n",
    "X = df['kospi_pct'].values\n",
    "\n",
    "X = X.reshape(-1,1)\n",
    "y = y.reshape(-1,1)"
   ]
  },
  {
   "cell_type": "code",
   "execution_count": 68,
   "id": "8fe801c1",
   "metadata": {},
   "outputs": [
    {
     "name": "stdout",
     "output_type": "stream",
     "text": [
      "Beta : 1.1513007916091724\n"
     ]
    }
   ],
   "source": [
    "results = sm.OLS(y, sm.add_constant(X)).fit()\n",
    "BETA = results.params[1]\n",
    "print(\"Beta :\", BETA)"
   ]
  },
  {
   "cell_type": "code",
   "execution_count": null,
   "id": "24f8ecb6",
   "metadata": {},
   "outputs": [],
   "source": [
    "rm = RF + "
   ]
  }
 ],
 "metadata": {
  "kernelspec": {
   "display_name": "Python 3 (ipykernel)",
   "language": "python",
   "name": "python3"
  },
  "language_info": {
   "codemirror_mode": {
    "name": "ipython",
    "version": 3
   },
   "file_extension": ".py",
   "mimetype": "text/x-python",
   "name": "python",
   "nbconvert_exporter": "python",
   "pygments_lexer": "ipython3",
   "version": "3.9.7"
  }
 },
 "nbformat": 4,
 "nbformat_minor": 5
}
