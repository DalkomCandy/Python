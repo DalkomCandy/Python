{
 "cells": [
  {
   "cell_type": "code",
   "execution_count": 40,
   "id": "21e889f8",
   "metadata": {},
   "outputs": [
    {
     "name": "stdout",
     "output_type": "stream",
     "text": [
      "^C\n",
      "\n",
      "Note: you may need to restart the kernel to use updated packages.\n"
     ]
    }
   ],
   "source": [
    "conda install -c conda-forge pycaret"
   ]
  },
  {
   "cell_type": "code",
   "execution_count": 20,
   "id": "f2318327",
   "metadata": {},
   "outputs": [],
   "source": [
    "import pandas as pd\n",
    "import numpy as np\n",
    "import matplotlib.pyplot.as plt\n",
    "import seaborn as sns\n",
    "import missingno # 결측데이터들을 파악하는데 직관적인 도움을 주는 패키지\n",
    "import pycaret.datasets import get_data\n",
    "import pycaret.classification import *\n",
    "import warnings\n",
    "warnings.filterwarning(\"ignore\")"
   ]
  },
  {
   "cell_type": "code",
   "execution_count": 41,
   "id": "51e4ee8b",
   "metadata": {},
   "outputs": [
    {
     "ename": "AttributeError",
     "evalue": "module 'pandas' has no attribute 'rea_csv'",
     "output_type": "error",
     "traceback": [
      "\u001b[1;31m---------------------------------------------------------------------------\u001b[0m",
      "\u001b[1;31mAttributeError\u001b[0m                            Traceback (most recent call last)",
      "\u001b[1;32mC:\\Users\\ADMINI~1\\AppData\\Local\\Temp/ipykernel_11852/2737153093.py\u001b[0m in \u001b[0;36m<module>\u001b[1;34m\u001b[0m\n\u001b[0;32m      1\u001b[0m \u001b[0mtrain\u001b[0m \u001b[1;33m=\u001b[0m \u001b[0mpd\u001b[0m\u001b[1;33m.\u001b[0m\u001b[0mread_csv\u001b[0m\u001b[1;33m(\u001b[0m\u001b[1;34mf'./train.csv'\u001b[0m\u001b[1;33m)\u001b[0m\u001b[1;33m\u001b[0m\u001b[1;33m\u001b[0m\u001b[0m\n\u001b[1;32m----> 2\u001b[1;33m \u001b[0mtest\u001b[0m \u001b[1;33m=\u001b[0m \u001b[0mpd\u001b[0m\u001b[1;33m.\u001b[0m\u001b[0mrea_csv\u001b[0m\u001b[1;33m(\u001b[0m\u001b[1;34mf'./test.csv'\u001b[0m\u001b[1;33m)\u001b[0m\u001b[1;33m\u001b[0m\u001b[1;33m\u001b[0m\u001b[0m\n\u001b[0m",
      "\u001b[1;32m~\\anaconda3\\lib\\site-packages\\pandas\\__init__.py\u001b[0m in \u001b[0;36m__getattr__\u001b[1;34m(name)\u001b[0m\n\u001b[0;32m    242\u001b[0m         \u001b[1;32mreturn\u001b[0m \u001b[0m_SparseArray\u001b[0m\u001b[1;33m\u001b[0m\u001b[1;33m\u001b[0m\u001b[0m\n\u001b[0;32m    243\u001b[0m \u001b[1;33m\u001b[0m\u001b[0m\n\u001b[1;32m--> 244\u001b[1;33m     \u001b[1;32mraise\u001b[0m \u001b[0mAttributeError\u001b[0m\u001b[1;33m(\u001b[0m\u001b[1;34mf\"module 'pandas' has no attribute '{name}'\"\u001b[0m\u001b[1;33m)\u001b[0m\u001b[1;33m\u001b[0m\u001b[1;33m\u001b[0m\u001b[0m\n\u001b[0m\u001b[0;32m    245\u001b[0m \u001b[1;33m\u001b[0m\u001b[0m\n\u001b[0;32m    246\u001b[0m \u001b[1;33m\u001b[0m\u001b[0m\n",
      "\u001b[1;31mAttributeError\u001b[0m: module 'pandas' has no attribute 'rea_csv'"
     ]
    }
   ],
   "source": [
    "train = pd.read_csv(f'./train.csv')\n",
    "test = pd.rea_csv(f'./test.csv')"
   ]
  },
  {
   "cell_type": "markdown",
   "id": "90d8a055",
   "metadata": {},
   "source": [
    "survived : 생존=1, 죽음=0\n",
    "\n",
    "pclass : 승객 등급. 1등급=1, 2등급=2, 3등급=3\n",
    "\n",
    "sibsp : 함께 탑승한 형제 또는 배우자 수\n",
    "\n",
    "parch : 함께 탑승한 부모 또는 자녀 수\n",
    "\n",
    "ticket : 티켓 번호\n",
    "\n",
    "cabin : 선실 번호\n",
    "\n",
    "embarked : 탑승장소 S=Southhampton, C=Cherbourg, Q=Queenstown"
   ]
  },
  {
   "cell_type": "code",
   "execution_count": 22,
   "id": "1550a1e3",
   "metadata": {},
   "outputs": [
    {
     "data": {
      "text/plain": [
       "((712, 11), (712, 2), (179, 11), (179, 2))"
      ]
     },
     "execution_count": 22,
     "metadata": {},
     "output_type": "execute_result"
    }
   ],
   "source": [
    "X_train, X_test = train_test_split(train_df, test_size = 0.2, random_state = 1)\n",
    "\n",
    "y_train = X_train[['PassengerId', 'Survived']]\n",
    "X_train = X_train.drop(columns='Survived')\n",
    "\n",
    "y_test = X_test[['PassengerId', 'Survived']]\n",
    "X_test = X_test.drop(columns='Survived')\n",
    "\n",
    "X_train.shape, y_train.shape, X_test.shape, y_test.shape"
   ]
  },
  {
   "cell_type": "markdown",
   "id": "2f6ed809",
   "metadata": {},
   "source": [
    "### EDA "
   ]
  },
  {
   "cell_type": "code",
   "execution_count": 35,
   "id": "14102e0b",
   "metadata": {
    "scrolled": true
   },
   "outputs": [
    {
     "name": "stdout",
     "output_type": "stream",
     "text": [
      "     Pclass  SibSp  Parch  Sex_female  Sex_male\n",
      "301       3      2      0           0         1\n",
      "309       1      0      0           1         0\n",
      "516       2      0      0           1         0\n",
      "120       2      2      0           0         1\n",
      "570       2      0      0           0         1\n",
      "..      ...    ...    ...         ...       ...\n",
      "715       3      0      0           0         1\n",
      "767       3      0      0           1         0\n",
      "72        2      0      0           0         1\n",
      "235       3      0      0           1         0\n",
      "37        3      0      0           0         1\n",
      "\n",
      "[712 rows x 5 columns]\n",
      "     Pclass  SibSp  Parch  Sex_female  Sex_male\n",
      "862       1      0      0           1         0\n",
      "223       3      0      0           0         1\n",
      "84        2      0      0           1         0\n",
      "680       3      0      0           1         0\n",
      "535       2      0      2           1         0\n",
      "..      ...    ...    ...         ...       ...\n",
      "796       1      0      0           1         0\n",
      "815       1      0      0           0         1\n",
      "629       3      0      0           0         1\n",
      "421       3      0      0           0         1\n",
      "448       3      2      1           1         0\n",
      "\n",
      "[179 rows x 5 columns]\n"
     ]
    }
   ],
   "source": [
    "y = y_train['Survived']\n",
    "\n",
    "features = ['Pclass', \"Sex\", \"SibSp\", \"Parch\"]\n",
    "\n",
    "X = pd.get_dummies(X_train[features])\n",
    "test = pd.get_dummies(X_test[features])\n",
    "\n",
    "print(X)\n",
    "print(test)"
   ]
  },
  {
   "cell_type": "code",
   "execution_count": 37,
   "id": "b44d12c7",
   "metadata": {},
   "outputs": [],
   "source": [
    "from sklearn.ensemble import RandomForestClassifier\n",
    "\n",
    "model = RandomForestClassifier(n_estimators = 200, max_depth = 7, random_state = 2)\n",
    "model.fit(X,y)\n",
    "predictions = model.predict(test)"
   ]
  },
  {
   "cell_type": "code",
   "execution_count": 38,
   "id": "67730644",
   "metadata": {},
   "outputs": [
    {
     "data": {
      "text/plain": [
       "0.827247191011236"
      ]
     },
     "execution_count": 38,
     "metadata": {},
     "output_type": "execute_result"
    }
   ],
   "source": [
    "model.score(X,y)"
   ]
  }
 ],
 "metadata": {
  "kernelspec": {
   "display_name": "Python 3 (ipykernel)",
   "language": "python",
   "name": "python3"
  },
  "language_info": {
   "codemirror_mode": {
    "name": "ipython",
    "version": 3
   },
   "file_extension": ".py",
   "mimetype": "text/x-python",
   "name": "python",
   "nbconvert_exporter": "python",
   "pygments_lexer": "ipython3",
   "version": "3.9.7"
  }
 },
 "nbformat": 4,
 "nbformat_minor": 5
}
