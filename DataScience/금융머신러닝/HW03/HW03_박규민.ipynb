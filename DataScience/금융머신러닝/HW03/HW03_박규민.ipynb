{
 "cells": [
  {
   "cell_type": "markdown",
   "id": "a69e5515",
   "metadata": {},
   "source": [
    "# < Gaussian NBC : Wine data >"
   ]
  },
  {
   "cell_type": "markdown",
   "id": "061686d8",
   "metadata": {},
   "source": [
    "### > 데이터 불러오기"
   ]
  },
  {
   "cell_type": "code",
   "execution_count": 1,
   "id": "17ddcd0f",
   "metadata": {},
   "outputs": [],
   "source": [
    "from sklearn import datasets\n",
    "raw_wine = datasets.load_wine()"
   ]
  },
  {
   "cell_type": "markdown",
   "id": "d6762e7b",
   "metadata": {},
   "source": [
    "### > 피처, 타깃 데이터 지정"
   ]
  },
  {
   "cell_type": "code",
   "execution_count": 2,
   "id": "d235ad55",
   "metadata": {},
   "outputs": [],
   "source": [
    "X = raw_wine.data\n",
    "y = raw_wine.target"
   ]
  },
  {
   "cell_type": "markdown",
   "id": "fb45e417",
   "metadata": {},
   "source": [
    "### > 트레이닝/테스트 데이터 분할 "
   ]
  },
  {
   "cell_type": "code",
   "execution_count": 6,
   "id": "3c78949b",
   "metadata": {},
   "outputs": [],
   "source": [
    "from sklearn.model_selection import train_test_split\n",
    "X_tn , X_te, y_tn, y_te = train_test_split(X, y, random_state = 0)"
   ]
  },
  {
   "cell_type": "markdown",
   "id": "dc431f05",
   "metadata": {},
   "source": [
    "### > 데이터 표준화"
   ]
  },
  {
   "cell_type": "code",
   "execution_count": 10,
   "id": "f9644a83",
   "metadata": {},
   "outputs": [],
   "source": [
    "from sklearn.preprocessing import StandardScaler\n",
    "std_scale = StandardScaler()\n",
    "std_scale.fit(X_tn)\n",
    "X_tn_std = std_scale.transform(X_tn)\n",
    "X_te_std = std_scale.transform(X_te)"
   ]
  },
  {
   "cell_type": "markdown",
   "id": "99b78040",
   "metadata": {},
   "source": [
    "### > 데이터 학습 "
   ]
  },
  {
   "cell_type": "code",
   "execution_count": 13,
   "id": "d2c4929b",
   "metadata": {},
   "outputs": [
    {
     "data": {
      "text/plain": [
       "GaussianNB()"
      ]
     },
     "execution_count": 13,
     "metadata": {},
     "output_type": "execute_result"
    }
   ],
   "source": [
    "from sklearn.naive_bayes import GaussianNB\n",
    "clf_gnb = GaussianNB()\n",
    "clf_gnb.fit(X_tn_std, y_tn)"
   ]
  },
  {
   "cell_type": "code",
   "execution_count": 14,
   "id": "47b195ca",
   "metadata": {},
   "outputs": [
    {
     "name": "stdout",
     "output_type": "stream",
     "text": [
      "[0 2 1 0 1 1 0 2 1 1 2 2 0 0 2 1 0 0 2 0 0 0 0 1 1 1 1 1 1 2 0 0 1 0 0 0 2\n",
      " 1 1 2 0 0 1 1 1]\n"
     ]
    }
   ],
   "source": [
    "pred_gnb = clf_gnb.predict(X_te_std)\n",
    "print(pred_gnb)"
   ]
  },
  {
   "cell_type": "markdown",
   "id": "af57cb3a",
   "metadata": {},
   "source": [
    "### > 리콜 평가"
   ]
  },
  {
   "cell_type": "code",
   "execution_count": 15,
   "id": "43c66924",
   "metadata": {},
   "outputs": [
    {
     "name": "stdout",
     "output_type": "stream",
     "text": [
      "0.9523809523809524\n"
     ]
    }
   ],
   "source": [
    "from sklearn.metrics import recall_score\n",
    "recall = recall_score(y_te, pred_gnb, average = 'macro')\n",
    "print(recall)"
   ]
  },
  {
   "cell_type": "markdown",
   "id": "adf92989",
   "metadata": {},
   "source": [
    "###  > confusion matrix 확인"
   ]
  },
  {
   "cell_type": "code",
   "execution_count": 16,
   "id": "fd8d06b7",
   "metadata": {},
   "outputs": [
    {
     "name": "stdout",
     "output_type": "stream",
     "text": [
      "[[16  0  0]\n",
      " [ 2 18  1]\n",
      " [ 0  0  8]]\n"
     ]
    }
   ],
   "source": [
    "from sklearn.metrics import confusion_matrix\n",
    "conf_matrix = confusion_matrix(y_te, pred_gnb)\n",
    "print(conf_matrix)"
   ]
  },
  {
   "cell_type": "markdown",
   "id": "0b8c57df",
   "metadata": {},
   "source": [
    "### > 분류 리포트 확인"
   ]
  },
  {
   "cell_type": "code",
   "execution_count": 17,
   "id": "f12cc776",
   "metadata": {},
   "outputs": [
    {
     "name": "stdout",
     "output_type": "stream",
     "text": [
      "              precision    recall  f1-score   support\n",
      "\n",
      "           0       0.89      1.00      0.94        16\n",
      "           1       1.00      0.86      0.92        21\n",
      "           2       0.89      1.00      0.94         8\n",
      "\n",
      "    accuracy                           0.93        45\n",
      "   macro avg       0.93      0.95      0.94        45\n",
      "weighted avg       0.94      0.93      0.93        45\n",
      "\n"
     ]
    }
   ],
   "source": [
    "from sklearn.metrics import classification_report\n",
    "class_report = classification_report(y_te, pred_gnb)\n",
    "print(class_report)"
   ]
  }
 ],
 "metadata": {
  "kernelspec": {
   "display_name": "Python 3 (ipykernel)",
   "language": "python",
   "name": "python3"
  },
  "language_info": {
   "codemirror_mode": {
    "name": "ipython",
    "version": 3
   },
   "file_extension": ".py",
   "mimetype": "text/x-python",
   "name": "python",
   "nbconvert_exporter": "python",
   "pygments_lexer": "ipython3",
   "version": "3.9.7"
  }
 },
 "nbformat": 4,
 "nbformat_minor": 5
}
