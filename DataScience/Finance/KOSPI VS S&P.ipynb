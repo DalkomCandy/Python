{
 "cells": [
  {
   "cell_type": "code",
   "execution_count": 235,
   "id": "6f56505e",
   "metadata": {},
   "outputs": [],
   "source": [
    "import pandas as pd\n",
    "import numpy as np\n",
    "from pandas_datareader import data as pdr\n",
    "import matplotlib.pyplot as plt\n",
    "%matplotlib inline\n",
    "import yfinance as yf\n",
    "import datetime\n",
    "yf.pdr_override() \n",
    "#  fix_yahoo_finance 모듈에서 해당함수를 호출하면 \n",
    "# 야후에서 데이터를 획득하는 방식이 크롤링으로 변경되어 주가 데이터를 불러올 수 있게 하기 위함.\n",
    "\n",
    "import warnings\n",
    "warnings.filterwarnings(\"ignore\")"
   ]
  },
  {
   "cell_type": "code",
   "execution_count": 236,
   "id": "5188573e",
   "metadata": {
    "scrolled": true
   },
   "outputs": [
    {
     "name": "stdout",
     "output_type": "stream",
     "text": [
      "[*********************100%***********************]  1 of 1 completed\n",
      "[*********************100%***********************]  1 of 1 completed\n"
     ]
    }
   ],
   "source": [
    "start = '2000-01-04'\n",
    "end = '2022-01-01'\n",
    "idx = pd.date_range(start, end)\n",
    "\n",
    "kospi = pdr.get_data_yahoo(\"^KS11\", start = start, end = end)\n",
    "snp = pdr.get_data_yahoo(\"^GSPC\", start = start, end = end)"
   ]
  },
  {
   "cell_type": "code",
   "execution_count": 237,
   "id": "7108a9d2",
   "metadata": {},
   "outputs": [],
   "source": [
    "kospi_close = kospi[\"Close\"]\n",
    "snp_close = snp[\"Close\"]"
   ]
  },
  {
   "cell_type": "code",
   "execution_count": 238,
   "id": "3a294fa5",
   "metadata": {},
   "outputs": [],
   "source": [
    "for i in idx:\n",
    "    if i not in kospi_close:\n",
    "        kospi_close[i] = kospi_close[i - datetime.timedelta(days=1)]\n",
    "    if i not in snp_close:\n",
    "        snp_close[i] = snp_close[i - datetime.timedelta(days=1)]\n",
    "\n",
    "kospi_close = kospi_close.sort_index()\n",
    "snp_close = snp_close.sort_index()"
   ]
  },
  {
   "cell_type": "code",
   "execution_count": 239,
   "id": "67a1ccd4",
   "metadata": {
    "scrolled": true
   },
   "outputs": [
    {
     "data": {
      "image/png": "[encoded data removed]",
      "text/plain": [
       "<Figure size 432x288 with 1 Axes>"
      ]
     },
     "metadata": {
      "needs_background": "light"
     },
     "output_type": "display_data"
    }
   ],
   "source": [
    "plt.plot(kospi_close.index, kospi_close.values);\n",
    "plt.plot(snp_close.index, snp_close.values);"
   ]
  },
  {
   "cell_type": "code",
   "execution_count": 240,
   "id": "e70f1b25",
   "metadata": {},
   "outputs": [
    {
     "name": "stdout",
     "output_type": "stream",
     "text": [
      "같은 방향 : 2537\n",
      "다른 방향 : 1638\n"
     ]
    }
   ],
   "source": [
    "one   = 0 #\"UP&UP\"\n",
    "two   = 0 #\"UP&DOWN\"\n",
    "three = 0 #\"DOWN&UP\"\n",
    "four  = 0 #\"DOWN&DOWN\"\n",
    "for i in range(len(idx)-1):\n",
    "    if snp_close[i] > snp_close[i+1]:\n",
    "        if kospi_close[i] > kospi_close[i+1]:\n",
    "            one += 1\n",
    "    if snp_close[i] > snp_close[i+1]:\n",
    "        if kospi_close[i] < kospi_close[i+1]:\n",
    "            two += 1\n",
    "    if snp_close[i] < snp_close[i+1]:\n",
    "        if kospi_close[i] > kospi_close[i+1]:\n",
    "            three += 1\n",
    "    if snp_close[i] < snp_close[i+1]:\n",
    "        if kospi_close[i] < kospi_close[i+1]:\n",
    "            four += 1\n",
    "#             print(f\"{idx[i]}에 {round((snp_close[i] / snp_close[i+1]-1)*100,2)}%만큼 S&P500이 감소함\")\n",
    "#             print(f\"{idx[i+1]}에 {round((kospi_close[i+1] / kospi_close[i+2]-1)*100,2)}%만큼 KOSPI가 감소함\")\n",
    "            \n",
    "print(\"같은 방향 :\", one + four)\n",
    "print(\"다른 방향 :\", two + three)"
   ]
  },
  {
   "cell_type": "code",
   "execution_count": null,
   "id": "8305b1da",
   "metadata": {},
   "outputs": [],
   "source": []
  },
  {
   "cell_type": "code",
   "execution_count": null,
   "id": "89df753e",
   "metadata": {},
   "outputs": [],
   "source": []
  }
 ],
 "metadata": {
  "kernelspec": {
   "display_name": "Python 3 (ipykernel)",
   "language": "python",
   "name": "python3"
  },
  "language_info": {
   "codemirror_mode": {
    "name": "ipython",
    "version": 3
   },
   "file_extension": ".py",
   "mimetype": "text/x-python",
   "name": "python",
   "nbconvert_exporter": "python",
   "pygments_lexer": "ipython3",
   "version": "3.9.7"
  }
 },
 "nbformat": 4,
 "nbformat_minor": 5
}
