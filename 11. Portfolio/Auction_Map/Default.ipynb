{
 "cells": [
  {
   "cell_type": "code",
   "execution_count": 2,
   "id": "88854f5b",
   "metadata": {},
   "outputs": [],
   "source": [
    "import pandas as pd\n",
    "import numpy as np\n",
    "from sklearn.preprocessing import LabelEncoder\n",
    "from sklearn.metrics import accuracy_score\n",
    "from sklearn.model_selection import train_test_split"
   ]
  },
  {
   "cell_type": "code",
   "execution_count": 3,
   "id": "5cb2b6cb",
   "metadata": {
    "scrolled": true
   },
   "outputs": [
    {
     "data": {
      "text/html": [
       "<div>\n",
       "<style scoped>\n",
       "    .dataframe tbody tr th:only-of-type {\n",
       "        vertical-align: middle;\n",
       "    }\n",
       "\n",
       "    .dataframe tbody tr th {\n",
       "        vertical-align: top;\n",
       "    }\n",
       "\n",
       "    .dataframe thead th {\n",
       "        text-align: right;\n",
       "    }\n",
       "</style>\n",
       "<table border=\"1\" class=\"dataframe\">\n",
       "  <thead>\n",
       "    <tr style=\"text-align: right;\">\n",
       "      <th></th>\n",
       "      <th>아파트</th>\n",
       "      <th>지역구</th>\n",
       "      <th>감정가</th>\n",
       "      <th>전용면적</th>\n",
       "    </tr>\n",
       "  </thead>\n",
       "  <tbody>\n",
       "    <tr>\n",
       "      <th>0</th>\n",
       "      <td>서울특별시 서대문구 홍제동 461-1 홍제삼성래미안아파트 제106동 제11층 제1101호</td>\n",
       "      <td>서울특별시 서대문구</td>\n",
       "      <td>508000000</td>\n",
       "      <td>[전용 9.9평]</td>\n",
       "    </tr>\n",
       "    <tr>\n",
       "      <th>1</th>\n",
       "      <td>서울특별시 노원구 상계동 737 상계주공아파트 제306동 제3층 제301호</td>\n",
       "      <td>서울특별시 노원구</td>\n",
       "      <td>316000000</td>\n",
       "      <td>[전용 9.8평]</td>\n",
       "    </tr>\n",
       "    <tr>\n",
       "      <th>2</th>\n",
       "      <td>서울특별시 양천구 신정동 310외 2필지 목동신시가지아파트 제1013동 제1층 제102호</td>\n",
       "      <td>서울특별시 양천구</td>\n",
       "      <td>445000000</td>\n",
       "      <td>[전용 9.3평]</td>\n",
       "    </tr>\n",
       "    <tr>\n",
       "      <th>3</th>\n",
       "      <td>서울특별시 성동구 상왕십리동 811 텐즈힐 제212동 제14층 제1402호</td>\n",
       "      <td>서울특별시 성동구</td>\n",
       "      <td>462000000</td>\n",
       "      <td>[전용 9.1평]</td>\n",
       "    </tr>\n",
       "    <tr>\n",
       "      <th>4</th>\n",
       "      <td>서울특별시 금천구 독산동 1147 금천롯데캐슬골드파크1차 제111동 제15층 제1501호</td>\n",
       "      <td>서울특별시 금천구</td>\n",
       "      <td>381000000</td>\n",
       "      <td>[전용 9.1평]</td>\n",
       "    </tr>\n",
       "  </tbody>\n",
       "</table>\n",
       "</div>"
      ],
      "text/plain": [
       "                                                 아파트         지역구        감정가  \\\n",
       "0  서울특별시 서대문구 홍제동 461-1 홍제삼성래미안아파트 제106동 제11층 제1101호  서울특별시 서대문구  508000000   \n",
       "1          서울특별시 노원구 상계동 737 상계주공아파트 제306동 제3층 제301호   서울특별시 노원구  316000000   \n",
       "2  서울특별시 양천구 신정동 310외 2필지 목동신시가지아파트 제1013동 제1층 제102호   서울특별시 양천구  445000000   \n",
       "3          서울특별시 성동구 상왕십리동 811 텐즈힐 제212동 제14층 제1402호   서울특별시 성동구  462000000   \n",
       "4  서울특별시 금천구 독산동 1147 금천롯데캐슬골드파크1차 제111동 제15층 제1501호   서울특별시 금천구  381000000   \n",
       "\n",
       "        전용면적  \n",
       "0  [전용 9.9평]  \n",
       "1  [전용 9.8평]  \n",
       "2  [전용 9.3평]  \n",
       "3  [전용 9.1평]  \n",
       "4  [전용 9.1평]  "
      ]
     },
     "execution_count": 3,
     "metadata": {},
     "output_type": "execute_result"
    }
   ],
   "source": [
    "df = pd.read_csv('./default.csv')\n",
    "df.head()"
   ]
  },
  {
   "cell_type": "markdown",
   "id": "67cd8ceb",
   "metadata": {},
   "source": [
    "### 전용면적 숫자만"
   ]
  },
  {
   "cell_type": "code",
   "execution_count": 4,
   "id": "c97a9262",
   "metadata": {},
   "outputs": [],
   "source": [
    "df['전용면적'] = df['전용면적'].apply(lambda x: str(x).replace('평]',''))\n",
    "df['전용면적'] = df['전용면적'].apply(lambda x: str(x).replace('[전용 ',''))\n",
    "df['전용면적'] = df['전용면적'].apply(lambda x: float(x))\n",
    "df['지역구'] = df['지역구'].apply(lambda x: x.replace('서울특별시 ',''))"
   ]
  },
  {
   "cell_type": "code",
   "execution_count": 5,
   "id": "cf169f2b",
   "metadata": {},
   "outputs": [
    {
     "data": {
      "text/html": [
       "<div>\n",
       "<style scoped>\n",
       "    .dataframe tbody tr th:only-of-type {\n",
       "        vertical-align: middle;\n",
       "    }\n",
       "\n",
       "    .dataframe tbody tr th {\n",
       "        vertical-align: top;\n",
       "    }\n",
       "\n",
       "    .dataframe thead th {\n",
       "        text-align: right;\n",
       "    }\n",
       "</style>\n",
       "<table border=\"1\" class=\"dataframe\">\n",
       "  <thead>\n",
       "    <tr style=\"text-align: right;\">\n",
       "      <th></th>\n",
       "      <th>아파트</th>\n",
       "      <th>지역구</th>\n",
       "      <th>감정가</th>\n",
       "      <th>전용면적</th>\n",
       "    </tr>\n",
       "  </thead>\n",
       "  <tbody>\n",
       "    <tr>\n",
       "      <th>0</th>\n",
       "      <td>서울특별시 서대문구 홍제동 461-1 홍제삼성래미안아파트 제106동 제11층 제1101호</td>\n",
       "      <td>서대문구</td>\n",
       "      <td>508000000</td>\n",
       "      <td>9.9</td>\n",
       "    </tr>\n",
       "    <tr>\n",
       "      <th>1</th>\n",
       "      <td>서울특별시 노원구 상계동 737 상계주공아파트 제306동 제3층 제301호</td>\n",
       "      <td>노원구</td>\n",
       "      <td>316000000</td>\n",
       "      <td>9.8</td>\n",
       "    </tr>\n",
       "    <tr>\n",
       "      <th>2</th>\n",
       "      <td>서울특별시 양천구 신정동 310외 2필지 목동신시가지아파트 제1013동 제1층 제102호</td>\n",
       "      <td>양천구</td>\n",
       "      <td>445000000</td>\n",
       "      <td>9.3</td>\n",
       "    </tr>\n",
       "    <tr>\n",
       "      <th>3</th>\n",
       "      <td>서울특별시 성동구 상왕십리동 811 텐즈힐 제212동 제14층 제1402호</td>\n",
       "      <td>성동구</td>\n",
       "      <td>462000000</td>\n",
       "      <td>9.1</td>\n",
       "    </tr>\n",
       "    <tr>\n",
       "      <th>4</th>\n",
       "      <td>서울특별시 금천구 독산동 1147 금천롯데캐슬골드파크1차 제111동 제15층 제1501호</td>\n",
       "      <td>금천구</td>\n",
       "      <td>381000000</td>\n",
       "      <td>9.1</td>\n",
       "    </tr>\n",
       "  </tbody>\n",
       "</table>\n",
       "</div>"
      ],
      "text/plain": [
       "                                                 아파트   지역구        감정가  전용면적\n",
       "0  서울특별시 서대문구 홍제동 461-1 홍제삼성래미안아파트 제106동 제11층 제1101호  서대문구  508000000   9.9\n",
       "1          서울특별시 노원구 상계동 737 상계주공아파트 제306동 제3층 제301호   노원구  316000000   9.8\n",
       "2  서울특별시 양천구 신정동 310외 2필지 목동신시가지아파트 제1013동 제1층 제102호   양천구  445000000   9.3\n",
       "3          서울특별시 성동구 상왕십리동 811 텐즈힐 제212동 제14층 제1402호   성동구  462000000   9.1\n",
       "4  서울특별시 금천구 독산동 1147 금천롯데캐슬골드파크1차 제111동 제15층 제1501호   금천구  381000000   9.1"
      ]
     },
     "execution_count": 5,
     "metadata": {},
     "output_type": "execute_result"
    }
   ],
   "source": [
    "df.head()"
   ]
  },
  {
   "cell_type": "code",
   "execution_count": 6,
   "id": "07e714b5",
   "metadata": {},
   "outputs": [],
   "source": [
    "encoding_columns = ['지역구']\n",
    "not_encoding_columns = ['전용면적', '감정가']"
   ]
  },
  {
   "cell_type": "code",
   "execution_count": 7,
   "id": "88b89cb8",
   "metadata": {
    "scrolled": true
   },
   "outputs": [
    {
     "data": {
      "text/html": [
       "<div>\n",
       "<style scoped>\n",
       "    .dataframe tbody tr th:only-of-type {\n",
       "        vertical-align: middle;\n",
       "    }\n",
       "\n",
       "    .dataframe tbody tr th {\n",
       "        vertical-align: top;\n",
       "    }\n",
       "\n",
       "    .dataframe thead th {\n",
       "        text-align: right;\n",
       "    }\n",
       "</style>\n",
       "<table border=\"1\" class=\"dataframe\">\n",
       "  <thead>\n",
       "    <tr style=\"text-align: right;\">\n",
       "      <th></th>\n",
       "      <th>지역구</th>\n",
       "      <th>전용면적</th>\n",
       "      <th>감정가</th>\n",
       "    </tr>\n",
       "  </thead>\n",
       "  <tbody>\n",
       "    <tr>\n",
       "      <th>0</th>\n",
       "      <td>13</td>\n",
       "      <td>9.9</td>\n",
       "      <td>508000000</td>\n",
       "    </tr>\n",
       "    <tr>\n",
       "      <th>1</th>\n",
       "      <td>8</td>\n",
       "      <td>9.8</td>\n",
       "      <td>316000000</td>\n",
       "    </tr>\n",
       "    <tr>\n",
       "      <th>2</th>\n",
       "      <td>18</td>\n",
       "      <td>9.3</td>\n",
       "      <td>445000000</td>\n",
       "    </tr>\n",
       "    <tr>\n",
       "      <th>3</th>\n",
       "      <td>15</td>\n",
       "      <td>9.1</td>\n",
       "      <td>462000000</td>\n",
       "    </tr>\n",
       "    <tr>\n",
       "      <th>4</th>\n",
       "      <td>7</td>\n",
       "      <td>9.1</td>\n",
       "      <td>381000000</td>\n",
       "    </tr>\n",
       "  </tbody>\n",
       "</table>\n",
       "</div>"
      ],
      "text/plain": [
       "   지역구  전용면적        감정가\n",
       "0   13   9.9  508000000\n",
       "1    8   9.8  316000000\n",
       "2   18   9.3  445000000\n",
       "3   15   9.1  462000000\n",
       "4    7   9.1  381000000"
      ]
     },
     "execution_count": 7,
     "metadata": {},
     "output_type": "execute_result"
    }
   ],
   "source": [
    "enc_classes = {}\n",
    "def encoding_label(x):\n",
    "    le = LabelEncoder()\n",
    "    label = le.fit_transform(x)\n",
    "    \n",
    "    enc_classes[x.name] = le.classes_\n",
    "    return label\n",
    "\n",
    "d1 = df[encoding_columns].apply(encoding_label)\n",
    "d2 = df[not_encoding_columns]\n",
    "data = d1.join(d2)\n",
    "data.head()"
   ]
  },
  {
   "cell_type": "markdown",
   "id": "4f891459",
   "metadata": {},
   "source": [
    "### Decision Tree"
   ]
  },
  {
   "cell_type": "code",
   "execution_count": 8,
   "id": "4518c26c",
   "metadata": {},
   "outputs": [],
   "source": [
    "y = data['감정가']\n",
    "X = data.drop(columns = '감정가')"
   ]
  },
  {
   "cell_type": "code",
   "execution_count": 9,
   "id": "ba60e4c6",
   "metadata": {},
   "outputs": [
    {
     "name": "stdout",
     "output_type": "stream",
     "text": [
      "train : 0.5468277945619335\n",
      "test: 0.024096385542168676\n"
     ]
    }
   ],
   "source": [
    "from sklearn.tree import DecisionTreeClassifier\n",
    "\n",
    "X_train, X_test, y_train, y_test = train_test_split(X,y,test_size=0.2, random_state = 21)\n",
    "\n",
    "# 모델 생성\n",
    "for i in range(3,100):\n",
    "    train_score = 0\n",
    "    test_score = 0\n",
    "\n",
    "    tree = DecisionTreeClassifier(max_depth=i)\n",
    "\n",
    "    # 학습\n",
    "    tree.fit(X_train, y_train)\n",
    "\n",
    "    pred_train = tree.predict(X_train)\n",
    "    pred_test = tree.predict(X_test)\n",
    "    acc_train = accuracy_score(y_train, pred_train)\n",
    "    acc_test = accuracy_score(y_test, pred_test)\n",
    "    \n",
    "    if train_score < acc_train:\n",
    "        train_score = acc_train\n",
    "    if test_score < acc_test:\n",
    "        test_score = acc_test\n",
    "print('train :', acc_train)\n",
    "print('test:', acc_test)"
   ]
  },
  {
   "cell_type": "markdown",
   "id": "c49902c4",
   "metadata": {},
   "source": [
    "### 나이브베이즈 "
   ]
  },
  {
   "cell_type": "code",
   "execution_count": 156,
   "id": "9a03a622",
   "metadata": {},
   "outputs": [
    {
     "name": "stdout",
     "output_type": "stream",
     "text": [
      "train : 0.2638469284994965\n",
      "test: 0.008032128514056224\n"
     ]
    }
   ],
   "source": [
    "from sklearn.naive_bayes import GaussianNB\n",
    "X_train, X_test, y_train, y_test = train_test_split(X,y,test_size=0.2, random_state = 50)\n",
    "gnb = GaussianNB()\n",
    "gnb.fit(X_train, y_train)\n",
    "\n",
    "pred_train = gnb.predict(X_train)\n",
    "pred_test = gnb.predict(X_test)\n",
    "acc_train = accuracy_score(y_train, pred_train)\n",
    "acc_test = accuracy_score(y_test, pred_test)\n",
    "\n",
    "print('train :', acc_train)\n",
    "print('test:', acc_test)"
   ]
  }
 ],
 "metadata": {
  "kernelspec": {
   "display_name": "Python 3 (ipykernel)",
   "language": "python",
   "name": "python3"
  },
  "language_info": {
   "codemirror_mode": {
    "name": "ipython",
    "version": 3
   },
   "file_extension": ".py",
   "mimetype": "text/x-python",
   "name": "python",
   "nbconvert_exporter": "python",
   "pygments_lexer": "ipython3",
   "version": "3.9.7"
  }
 },
 "nbformat": 4,
 "nbformat_minor": 5
}
