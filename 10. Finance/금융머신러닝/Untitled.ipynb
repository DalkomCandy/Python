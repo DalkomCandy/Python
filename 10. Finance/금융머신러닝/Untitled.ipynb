{
 "cells": [
  {
   "cell_type": "code",
   "execution_count": 3,
   "id": "be166df0",
   "metadata": {},
   "outputs": [],
   "source": [
    "# Import packages\n",
    "import warnings\n",
    "warnings.filterwarnings('ignore')\n",
    "\n",
    "import pandas as pd\n",
    "import numpy as np\n",
    "\n",
    "import seaborn as sns\n",
    "import matplotlib.pyplot as plt\n",
    "\n",
    "from sklearn.linear_model import LogisticRegression\n",
    "\n",
    "from sklearn.metrics import accuracy_score, recall_score, precision_score, f1_score\n",
    "from sklearn.metrics import precision_recall_curve, auc, average_precision_score"
   ]
  },
  {
   "cell_type": "code",
   "execution_count": 4,
   "id": "f01ebf57",
   "metadata": {},
   "outputs": [
    {
     "name": "stdout",
     "output_type": "stream",
     "text": [
      "   home_ownership  income    dt1  fico_low  loan_status\n",
      "0               1  44.304  18.47       690            0\n",
      "1               0  38.500  33.73       660            0\n",
      "2               1  54.000  19.00       660            0\n",
      "3               1  60.000  33.98       695            0\n",
      "4               0  39.354  10.85       685            0\n",
      "---------------------\n",
      "   home_ownership  income    dt1  fico_low  loan_status\n",
      "0               1   127.0  10.94       675            0\n",
      "1               1   197.0  15.64       710            0\n",
      "2               1    25.5  28.75       670            0\n",
      "3               1    80.0  20.16       660            0\n",
      "4               0    57.0  30.60       675            0\n"
     ]
    }
   ],
   "source": [
    "train = pd.read_excel('lendingclub_traindata.xlsx')\n",
    "test = pd.read_excel('lendingclub_testdata.xlsx')\n",
    "\n",
    "# 1 = good, 0 = default\n",
    "\n",
    "# give column names\n",
    "cols = ['home_ownership', 'income', 'dt1','fico_low','loan_status']\n",
    "train.columns = test.columns = cols\n",
    "\n",
    "print(train.head())\n",
    "print(\"---------------------\")\n",
    "print(test.head())"
   ]
  },
  {
   "cell_type": "code",
   "execution_count": 5,
   "id": "f8b450b3",
   "metadata": {},
   "outputs": [
    {
     "name": "stdout",
     "output_type": "stream",
     "text": [
      "      home_ownership   income    dt1  fico_low\n",
      "0                  1   44.304  18.47       690\n",
      "1                  0   38.500  33.73       660\n",
      "2                  1   54.000  19.00       660\n",
      "3                  1   60.000  33.98       695\n",
      "4                  0   39.354  10.85       685\n",
      "...              ...      ...    ...       ...\n",
      "8690               0   53.000  36.16       685\n",
      "8691               1  113.500  11.18       690\n",
      "8692               0  118.000   1.85       785\n",
      "8693               1   82.000  10.90       705\n",
      "8694               0  150.000  19.02       745\n",
      "\n",
      "[8695 rows x 4 columns] (8695,) (5916, 4) (5916,)\n"
     ]
    },
    {
     "data": {
      "text/plain": [
       "Index(['home_ownership', 'income', 'dt1', 'fico_low'], dtype='object')"
      ]
     },
     "execution_count": 5,
     "metadata": {},
     "output_type": "execute_result"
    }
   ],
   "source": [
    "# remove target column to create feature only dataset\n",
    "X_train = train.drop('loan_status', 1)\n",
    "X_test = test.drop('loan_status',1)\n",
    "\n",
    "# store target column\n",
    "y_train = train['loan_status']\n",
    "y_test = test['loan_status']\n",
    "\n",
    "print(X_train, y_train.shape, X_test.shape, y_test.shape)\n",
    "X_train.columns"
   ]
  },
  {
   "cell_type": "code",
   "execution_count": 7,
   "id": "e973dad0",
   "metadata": {},
   "outputs": [
    {
     "data": {
      "text/plain": [
       "0.8276020701552617"
      ]
     },
     "execution_count": 7,
     "metadata": {},
     "output_type": "execute_result"
    }
   ],
   "source": [
    "majority_class = y_train.mode()[0]\n",
    "prediction = np.full(shape=y_train.shape, fill_value=majority_class)\n",
    "accuracy_score(y_train, prediction)"
   ]
  },
  {
   "cell_type": "code",
   "execution_count": 8,
   "id": "b8edac93",
   "metadata": {},
   "outputs": [
    {
     "data": {
      "text/plain": [
       "1    82.760207\n",
       "0    17.239793\n",
       "Name: loan_status, dtype: float64"
      ]
     },
     "execution_count": 8,
     "metadata": {},
     "output_type": "execute_result"
    }
   ],
   "source": [
    "freq = y_train.value_counts() # count frequency of different classes in loan status\n",
    "freq/sum(freq)*100"
   ]
  },
  {
   "cell_type": "code",
   "execution_count": 9,
   "id": "9dfb0381",
   "metadata": {},
   "outputs": [
    {
     "name": "stdout",
     "output_type": "stream",
     "text": [
      "[-6.5652302] [[ 0.139496    0.00410667 -0.00112302  0.0112521 ]]\n"
     ]
    }
   ],
   "source": [
    "lgstc_reg = LogisticRegression(penalty=\"none\",solver='newton-cg') \n",
    "\n",
    "lgstc_reg.fit(X_train, y_train)\n",
    "\n",
    "print(lgstc_reg.intercept_, lgstc_reg.coef_)"
   ]
  },
  {
   "cell_type": "code",
   "execution_count": 10,
   "id": "8a5eeb35",
   "metadata": {},
   "outputs": [],
   "source": [
    "y_pred = lgstc_reg.predict(X_test) # predict default loans based on test data set"
   ]
  },
  {
   "cell_type": "code",
   "execution_count": null,
   "id": "a17decad",
   "metadata": {},
   "outputs": [],
   "source": [
    "THRESHOLD = [.75,.80,.85]\n",
    "results = pd.DataFrame(columns = ['THRESHOLD','accuracy','retail','thr',\n",
    "                                  'fpr','precision','f1_score'])\n",
    "result['THRESHOLD'] = THRESHOLD # threshold column\n",
    "\n",
    "j = 0\n",
    "\n",
    "for i in THRESHOLD:\n",
    "    lgstc_reg.fit(X_train, y_train)\n",
    "    preds = np.where(lgstc_reg.predict_proba(X_test)[:,1] > i,i,0)\n",
    "    \n",
    "    cm = (confusion_matrix(y_test, preds, labels=[1,0], sample_weight=None)/5916)*100\n",
    "    \n",
    "    print('Confusion matrix for threshold =',i)\n",
    "    print(cm)\n",
    "    print(' ')\n",
    "    \n",
    "    TP = cm[0][0]\n",
    "    FN = cm[0][1]\n",
    "    FP = cm[1][0]\n",
    "    TN = cm[1][1]\n",
    "    \n",
    "    results.iloc[j,1] = accuarcy_score(y_test, preds)\n",
    "    results.iloc[j,2] = recall_score(y_test, preds)\n",
    "    results.iloc[j,3] = TN/(FP+TN)\n",
    "    results.iloc[j,4] = FP/(FP+TN)\n",
    "    results.iloc[j,5] = precision_score(y_test, preds)\n",
    "    results.iloc[j,6] = f1_score(y_test, preds)\n",
    "    \n",
    "    j+=1\n",
    "    \n",
    "print('ALL METRICS')\n",
    "print(results.T)\n"
   ]
  }
 ],
 "metadata": {
  "kernelspec": {
   "display_name": "Python 3 (ipykernel)",
   "language": "python",
   "name": "python3"
  },
  "language_info": {
   "codemirror_mode": {
    "name": "ipython",
    "version": 3
   },
   "file_extension": ".py",
   "mimetype": "text/x-python",
   "name": "python",
   "nbconvert_exporter": "python",
   "pygments_lexer": "ipython3",
   "version": "3.9.7"
  }
 },
 "nbformat": 4,
 "nbformat_minor": 5
}
