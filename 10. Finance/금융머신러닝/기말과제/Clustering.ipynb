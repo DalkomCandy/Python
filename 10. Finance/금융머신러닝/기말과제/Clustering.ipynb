{
 "cells": [
  {
   "cell_type": "code",
   "execution_count": 2,
   "id": "4098b4a7",
   "metadata": {},
   "outputs": [
    {
     "name": "stderr",
     "output_type": "stream",
     "text": [
      "C:\\Users\\Administrator\\anaconda3\\lib\\site-packages\\statsmodels\\tsa\\base\\tsa_model.py:7: FutureWarning: pandas.Int64Index is deprecated and will be removed from pandas in a future version. Use pandas.Index with the appropriate dtype instead.\n",
      "  from pandas import (to_datetime, Int64Index, DatetimeIndex, Period,\n",
      "C:\\Users\\Administrator\\anaconda3\\lib\\site-packages\\statsmodels\\tsa\\base\\tsa_model.py:7: FutureWarning: pandas.Float64Index is deprecated and will be removed from pandas in a future version. Use pandas.Index with the appropriate dtype instead.\n",
      "  from pandas import (to_datetime, Int64Index, DatetimeIndex, Period,\n"
     ]
    }
   ],
   "source": [
    "import pandas as pd\n",
    "import numpy as np\n",
    "import matplotlib.pyplot as plt\n",
    "import seaborn as sns\n",
    "from fqtoolkit import dgToDf as dtd\n",
    "import statsmodels.api as sm\n",
    "import riskfolio as rp\n",
    "\n",
    "import warnings\n",
    "warnings.filterwarnings('ignore')"
   ]
  },
  {
   "cell_type": "code",
   "execution_count": 5,
   "id": "81db3143",
   "metadata": {},
   "outputs": [],
   "source": [
    "assets, liability, sale, income, price = [item[1] for item in dtd(\"data2.xlsx\", \"Sheet1\", 5).items()]"
   ]
  },
  {
   "cell_type": "code",
   "execution_count": 100,
   "id": "e14589c0",
   "metadata": {},
   "outputs": [
    {
     "data": {
      "text/html": [
       "<div>\n",
       "<style scoped>\n",
       "    .dataframe tbody tr th:only-of-type {\n",
       "        vertical-align: middle;\n",
       "    }\n",
       "\n",
       "    .dataframe tbody tr th {\n",
       "        vertical-align: top;\n",
       "    }\n",
       "\n",
       "    .dataframe thead th {\n",
       "        text-align: right;\n",
       "    }\n",
       "</style>\n",
       "<table border=\"1\" class=\"dataframe\">\n",
       "  <thead>\n",
       "    <tr style=\"text-align: right;\">\n",
       "      <th></th>\n",
       "      <th>삼성전자</th>\n",
       "      <th>SK하이닉스</th>\n",
       "      <th>NAVER</th>\n",
       "      <th>삼성SDI</th>\n",
       "      <th>현대차</th>\n",
       "      <th>카카오</th>\n",
       "      <th>기아</th>\n",
       "      <th>POSCO홀딩스</th>\n",
       "      <th>삼성물산</th>\n",
       "      <th>현대모비스</th>\n",
       "      <th>...</th>\n",
       "      <th>케이엠더블유</th>\n",
       "      <th>대주전자재료</th>\n",
       "      <th>현대바이오</th>\n",
       "      <th>하림지주</th>\n",
       "      <th>아프리카TV</th>\n",
       "      <th>안랩</th>\n",
       "      <th>네이처셀</th>\n",
       "      <th>주성엔지니어링</th>\n",
       "      <th>SFA반도체</th>\n",
       "      <th>NICE평가정보</th>\n",
       "    </tr>\n",
       "  </thead>\n",
       "  <tbody>\n",
       "    <tr>\n",
       "      <th>2001-01-31</th>\n",
       "      <td>0.122645</td>\n",
       "      <td>-0.322773</td>\n",
       "      <td>0.263845</td>\n",
       "      <td>-0.005784</td>\n",
       "      <td>0.246507</td>\n",
       "      <td>0.577594</td>\n",
       "      <td>0.111413</td>\n",
       "      <td>-0.036797</td>\n",
       "      <td>0.144932</td>\n",
       "      <td>0.126510</td>\n",
       "      <td>...</td>\n",
       "      <td>-0.437714</td>\n",
       "      <td>-0.002866</td>\n",
       "      <td>0.182361</td>\n",
       "      <td>0.466203</td>\n",
       "      <td>5.002297</td>\n",
       "      <td>3.671626</td>\n",
       "      <td>-0.200443</td>\n",
       "      <td>0.064590</td>\n",
       "      <td>0.646856</td>\n",
       "      <td>0.331523</td>\n",
       "    </tr>\n",
       "    <tr>\n",
       "      <th>2002-01-31</th>\n",
       "      <td>0.246381</td>\n",
       "      <td>-0.225743</td>\n",
       "      <td>1.721524</td>\n",
       "      <td>0.016745</td>\n",
       "      <td>0.152316</td>\n",
       "      <td>0.120577</td>\n",
       "      <td>0.102205</td>\n",
       "      <td>-0.016928</td>\n",
       "      <td>0.206286</td>\n",
       "      <td>0.194587</td>\n",
       "      <td>...</td>\n",
       "      <td>-0.152459</td>\n",
       "      <td>-0.123533</td>\n",
       "      <td>1.642804</td>\n",
       "      <td>0.075034</td>\n",
       "      <td>0.103526</td>\n",
       "      <td>-0.132935</td>\n",
       "      <td>-0.052735</td>\n",
       "      <td>-0.344538</td>\n",
       "      <td>0.161284</td>\n",
       "      <td>0.053293</td>\n",
       "    </tr>\n",
       "    <tr>\n",
       "      <th>2003-01-31</th>\n",
       "      <td>0.047521</td>\n",
       "      <td>-0.229021</td>\n",
       "      <td>0.602828</td>\n",
       "      <td>0.119598</td>\n",
       "      <td>0.162831</td>\n",
       "      <td>0.305068</td>\n",
       "      <td>0.249474</td>\n",
       "      <td>0.088678</td>\n",
       "      <td>0.045645</td>\n",
       "      <td>0.223418</td>\n",
       "      <td>...</td>\n",
       "      <td>-0.126374</td>\n",
       "      <td>0.221191</td>\n",
       "      <td>0.209130</td>\n",
       "      <td>-0.000005</td>\n",
       "      <td>0.870995</td>\n",
       "      <td>0.182165</td>\n",
       "      <td>-0.436616</td>\n",
       "      <td>-0.158697</td>\n",
       "      <td>0.855440</td>\n",
       "      <td>0.137948</td>\n",
       "    </tr>\n",
       "    <tr>\n",
       "      <th>2004-01-31</th>\n",
       "      <td>0.014151</td>\n",
       "      <td>0.028246</td>\n",
       "      <td>0.850388</td>\n",
       "      <td>0.048765</td>\n",
       "      <td>0.086030</td>\n",
       "      <td>0.909600</td>\n",
       "      <td>0.065606</td>\n",
       "      <td>0.161803</td>\n",
       "      <td>0.320367</td>\n",
       "      <td>0.314396</td>\n",
       "      <td>...</td>\n",
       "      <td>-0.063719</td>\n",
       "      <td>0.564596</td>\n",
       "      <td>-0.073188</td>\n",
       "      <td>-0.118709</td>\n",
       "      <td>-0.053809</td>\n",
       "      <td>-0.011559</td>\n",
       "      <td>-0.096193</td>\n",
       "      <td>0.360375</td>\n",
       "      <td>0.245823</td>\n",
       "      <td>-0.002305</td>\n",
       "    </tr>\n",
       "    <tr>\n",
       "      <th>2005-01-31</th>\n",
       "      <td>0.079084</td>\n",
       "      <td>0.209160</td>\n",
       "      <td>0.092174</td>\n",
       "      <td>-0.003237</td>\n",
       "      <td>0.138835</td>\n",
       "      <td>0.074517</td>\n",
       "      <td>0.113516</td>\n",
       "      <td>0.140012</td>\n",
       "      <td>0.011051</td>\n",
       "      <td>0.236263</td>\n",
       "      <td>...</td>\n",
       "      <td>-0.221381</td>\n",
       "      <td>0.095253</td>\n",
       "      <td>0.026844</td>\n",
       "      <td>0.223846</td>\n",
       "      <td>0.389499</td>\n",
       "      <td>0.175643</td>\n",
       "      <td>0.207520</td>\n",
       "      <td>0.161515</td>\n",
       "      <td>0.540896</td>\n",
       "      <td>0.160910</td>\n",
       "    </tr>\n",
       "  </tbody>\n",
       "</table>\n",
       "<p>5 rows × 52 columns</p>\n",
       "</div>"
      ],
      "text/plain": [
       "                삼성전자    SK하이닉스     NAVER     삼성SDI       현대차       카카오  \\\n",
       "2001-01-31  0.122645 -0.322773  0.263845 -0.005784  0.246507  0.577594   \n",
       "2002-01-31  0.246381 -0.225743  1.721524  0.016745  0.152316  0.120577   \n",
       "2003-01-31  0.047521 -0.229021  0.602828  0.119598  0.162831  0.305068   \n",
       "2004-01-31  0.014151  0.028246  0.850388  0.048765  0.086030  0.909600   \n",
       "2005-01-31  0.079084  0.209160  0.092174 -0.003237  0.138835  0.074517   \n",
       "\n",
       "                  기아  POSCO홀딩스      삼성물산     현대모비스  ...    케이엠더블유    대주전자재료  \\\n",
       "2001-01-31  0.111413 -0.036797  0.144932  0.126510  ... -0.437714 -0.002866   \n",
       "2002-01-31  0.102205 -0.016928  0.206286  0.194587  ... -0.152459 -0.123533   \n",
       "2003-01-31  0.249474  0.088678  0.045645  0.223418  ... -0.126374  0.221191   \n",
       "2004-01-31  0.065606  0.161803  0.320367  0.314396  ... -0.063719  0.564596   \n",
       "2005-01-31  0.113516  0.140012  0.011051  0.236263  ... -0.221381  0.095253   \n",
       "\n",
       "               현대바이오      하림지주    아프리카TV        안랩      네이처셀   주성엔지니어링  \\\n",
       "2001-01-31  0.182361  0.466203  5.002297  3.671626 -0.200443  0.064590   \n",
       "2002-01-31  1.642804  0.075034  0.103526 -0.132935 -0.052735 -0.344538   \n",
       "2003-01-31  0.209130 -0.000005  0.870995  0.182165 -0.436616 -0.158697   \n",
       "2004-01-31 -0.073188 -0.118709 -0.053809 -0.011559 -0.096193  0.360375   \n",
       "2005-01-31  0.026844  0.223846  0.389499  0.175643  0.207520  0.161515   \n",
       "\n",
       "              SFA반도체  NICE평가정보  \n",
       "2001-01-31  0.646856  0.331523  \n",
       "2002-01-31  0.161284  0.053293  \n",
       "2003-01-31  0.855440  0.137948  \n",
       "2004-01-31  0.245823 -0.002305  \n",
       "2005-01-31  0.540896  0.160910  \n",
       "\n",
       "[5 rows x 52 columns]"
      ]
     },
     "execution_count": 100,
     "metadata": {},
     "output_type": "execute_result"
    }
   ],
   "source": [
    "df = pd.DataFrame()\n",
    "for i in range(0,len(assets[:-5]),12):\n",
    "    df = df.append(assets.iloc[i])\n",
    "df_change = df.pct_change()\n",
    "df_change = df_change[1:]\n",
    "X = df_change.dropna(axis=1)\n",
    "X.head()"
   ]
  },
  {
   "cell_type": "code",
   "execution_count": 160,
   "id": "e3c2758f",
   "metadata": {},
   "outputs": [],
   "source": [
    "from plot_dendrogram import plot_dendrogram"
   ]
  },
  {
   "cell_type": "code",
   "execution_count": 161,
   "id": "2fe21059",
   "metadata": {
    "scrolled": false
   },
   "outputs": [
    {
     "data": {
      "image/png": "[encoded data removed]",
      "text/plain": [
       "<Figure size 864x360 with 1 Axes>"
      ]
     },
     "metadata": {},
     "output_type": "display_data"
    }
   ],
   "source": [
    "ax,an = plot_dendrogram(returns=X, codependence='spearman',\n",
    "                        linkage='ward', k=None, max_k=5,\n",
    "                        leaf_order=True, ax=None)\n",
    "ax;"
   ]
  },
  {
   "cell_type": "code",
   "execution_count": 1,
   "id": "85af04d9",
   "metadata": {},
   "outputs": [
    {
     "ename": "NameError",
     "evalue": "name 'an' is not defined",
     "output_type": "error",
     "traceback": [
      "\u001b[1;31m---------------------------------------------------------------------------\u001b[0m",
      "\u001b[1;31mNameError\u001b[0m                                 Traceback (most recent call last)",
      "\u001b[1;32mC:\\Users\\ADMINI~1\\AppData\\Local\\Temp/ipykernel_9868/2216677966.py\u001b[0m in \u001b[0;36m<module>\u001b[1;34m\u001b[0m\n\u001b[1;32m----> 1\u001b[1;33m \u001b[0mcolor\u001b[0m \u001b[1;33m=\u001b[0m \u001b[0mlist\u001b[0m\u001b[1;33m(\u001b[0m\u001b[0mset\u001b[0m\u001b[1;33m(\u001b[0m\u001b[0man\u001b[0m\u001b[1;33m[\u001b[0m\u001b[1;34m'leaves_color_list'\u001b[0m\u001b[1;33m]\u001b[0m\u001b[1;33m)\u001b[0m\u001b[1;33m)\u001b[0m\u001b[1;33m\u001b[0m\u001b[1;33m\u001b[0m\u001b[0m\n\u001b[0m\u001b[0;32m      2\u001b[0m \u001b[0mnew_df\u001b[0m \u001b[1;33m=\u001b[0m \u001b[0mpd\u001b[0m\u001b[1;33m.\u001b[0m\u001b[0mDataFrame\u001b[0m\u001b[1;33m(\u001b[0m\u001b[1;33m)\u001b[0m\u001b[1;33m\u001b[0m\u001b[1;33m\u001b[0m\u001b[0m\n\u001b[0;32m      3\u001b[0m \u001b[0mnew_df\u001b[0m\u001b[1;33m[\u001b[0m\u001b[1;34m'0'\u001b[0m\u001b[1;33m]\u001b[0m \u001b[1;33m=\u001b[0m \u001b[0man\u001b[0m\u001b[1;33m[\u001b[0m\u001b[1;34m'leaves'\u001b[0m\u001b[1;33m]\u001b[0m\u001b[1;33m\u001b[0m\u001b[1;33m\u001b[0m\u001b[0m\n\u001b[0;32m      4\u001b[0m \u001b[0mnew_df\u001b[0m\u001b[1;33m[\u001b[0m\u001b[1;34m'1'\u001b[0m\u001b[1;33m]\u001b[0m \u001b[1;33m=\u001b[0m \u001b[0man\u001b[0m\u001b[1;33m[\u001b[0m\u001b[1;34m'leaves_color_list'\u001b[0m\u001b[1;33m]\u001b[0m\u001b[1;33m\u001b[0m\u001b[1;33m\u001b[0m\u001b[0m\n\u001b[0;32m      5\u001b[0m \u001b[0mnew_df\u001b[0m \u001b[1;33m=\u001b[0m \u001b[0mnew_df\u001b[0m\u001b[1;33m.\u001b[0m\u001b[0msort_values\u001b[0m\u001b[1;33m(\u001b[0m\u001b[0mby\u001b[0m\u001b[1;33m=\u001b[0m\u001b[1;33m[\u001b[0m\u001b[1;34m'0'\u001b[0m\u001b[1;33m]\u001b[0m\u001b[1;33m)\u001b[0m\u001b[1;33m\u001b[0m\u001b[1;33m\u001b[0m\u001b[0m\n",
      "\u001b[1;31mNameError\u001b[0m: name 'an' is not defined"
     ]
    }
   ],
   "source": [
    "color = list(set(an['leaves_color_list']))\n",
    "new_df = pd.DataFrame()\n",
    "new_df['0'] = an['leaves']\n",
    "new_df['1'] = an['leaves_color_list']\n",
    "new_df = new_df.sort_values(by=['0'])\n",
    "new_df['2'] = X.columns\n",
    "\n",
    "li = []\n",
    "for i in color:\n",
    "    li.append(new_df[new_df['1']==i])\n",
    "li[0]"
   ]
  },
  {
   "cell_type": "markdown",
   "id": "d71763b1",
   "metadata": {},
   "source": [
    "### 검증"
   ]
  },
  {
   "cell_type": "code",
   "execution_count": 149,
   "id": "ab802b5a",
   "metadata": {},
   "outputs": [],
   "source": [
    "from folio import price\n",
    "import yfinance as yf"
   ]
  },
  {
   "cell_type": "code",
   "execution_count": 151,
   "id": "fa3327ef",
   "metadata": {},
   "outputs": [
    {
     "name": "stdout",
     "output_type": "stream",
     "text": [
      "[*********************100%***********************]  1 of 1 completed\n",
      "[*********************100%***********************]  1 of 1 completed\n",
      "[*********************100%***********************]  1 of 1 completed\n",
      "[*********************100%***********************]  1 of 1 completed\n",
      "[*********************100%***********************]  1 of 1 completed\n",
      "[*********************100%***********************]  1 of 1 completed\n"
     ]
    },
    {
     "data": {
      "image/png": "[encoded data removed]",
      "text/plain": [
       "<Figure size 864x360 with 1 Axes>"
      ]
     },
     "metadata": {},
     "output_type": "display_data"
    }
   ],
   "source": [
    "# 초기 세팅\n",
    "start = '2001-01-01'\n",
    "end = '2022-01-01'\n",
    "stocks = [\"005930.KS\", \"000270.KS\", \"000660.KS\",\"035720.KS\"]\n",
    "bonds = ['122260.KS', '114260.KS']\n",
    "# 122260.KS (1년물 채권)\n",
    "# 114260.KS (3년물 채권)\n",
    "# 397420.KS (5년물 채권)\n",
    "assets = stocks + bonds\n",
    "\n",
    "df = price(assets, start, end)\n",
    "Y = df[assets].pct_change().dropna()\n",
    "\n",
    "Y.columns = list(info(yf.Ticker(i))['shortName'] for i in Y.columns)\n",
    "\n",
    "ax,an = plot_dendrogram(returns=Y, codependence='spearman',\n",
    "                        linkage='ward', k=None, max_k=5,\n",
    "                        leaf_order=True, ax=None)"
   ]
  }
 ],
 "metadata": {
  "kernelspec": {
   "display_name": "Python 3 (ipykernel)",
   "language": "python",
   "name": "python3"
  },
  "language_info": {
   "codemirror_mode": {
    "name": "ipython",
    "version": 3
   },
   "file_extension": ".py",
   "mimetype": "text/x-python",
   "name": "python",
   "nbconvert_exporter": "python",
   "pygments_lexer": "ipython3",
   "version": "3.9.7"
  }
 },
 "nbformat": 4,
 "nbformat_minor": 5
}
