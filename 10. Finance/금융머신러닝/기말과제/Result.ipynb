{
 "cells": [
  {
   "cell_type": "markdown",
   "metadata": {},
   "source": [
    "# 목표"
   ]
  },
  {
   "cell_type": "markdown",
   "metadata": {},
   "source": [
    "#### 1. 기본적으로 주가를 예측하는 것을 목표로 한다.\n",
    "#### 2. 주가를 예측하기 위해, 주가 데이터만 사용하는 것이 아니라 기업의 재무상태 또한 고려하려 한다.\n",
    "#### 3. 여기서 문제점은 주가의 종가는 매일 업데이트 되지만 재무상태는 1년에 한 번 공시된다는 것이다. \n",
    "#### 4. 물론 분기별 재무보고서가 있지만 수정되는 경우도 많고, 정확하지 않은 경우가 많아 사업계획서를 기준으로 한다."
   ]
  },
  {
   "cell_type": "markdown",
   "metadata": {},
   "source": [
    "## Imports"
   ]
  },
  {
   "cell_type": "markdown",
   "metadata": {},
   "source": [
    "#### 데이터 분석 라이브러리"
   ]
  },
  {
   "cell_type": "code",
   "execution_count": 1,
   "metadata": {},
   "outputs": [],
   "source": [
    "import pandas as pd\n",
    "import numpy as np"
   ]
  },
  {
   "cell_type": "markdown",
   "metadata": {},
   "source": [
    "#### 시각화 라이브러리"
   ]
  },
  {
   "cell_type": "code",
   "execution_count": 2,
   "metadata": {},
   "outputs": [],
   "source": [
    "import matplotlib.pyplot as plt\n",
    "import seaborn as sns"
   ]
  },
  {
   "cell_type": "markdown",
   "metadata": {},
   "source": [
    "#### 머신러닝용 라이브러리"
   ]
  },
  {
   "cell_type": "code",
   "execution_count": 3,
   "metadata": {},
   "outputs": [],
   "source": [
    "from sklearn.tree import DecisionTreeRegressor\n",
    "from sklearn.metrics import accuracy_score"
   ]
  },
  {
   "cell_type": "markdown",
   "metadata": {},
   "source": [
    "#### 기타 필요한 라이브러리"
   ]
  },
  {
   "cell_type": "code",
   "execution_count": 4,
   "metadata": {},
   "outputs": [],
   "source": [
    "import warnings\n",
    "warnings.filterwarnings('ignore')\n",
    "from fqtoolkit import dgToDf as dtd\n",
    "import statsmodels.api as sm\n",
    "import riskfolio as rp"
   ]
  },
  {
   "cell_type": "markdown",
   "metadata": {},
   "source": [
    "## Data 불러오기"
   ]
  },
  {
   "cell_type": "markdown",
   "metadata": {},
   "source": [
    "O 데이터는 기본적으로 데이터 가이드에서 재공되는 주가정보와 재무 정보를 사용한다.    \n",
    "   \n",
    "- 기업 : 코스피 시총 상위 50개 기업 + 코스닥 시총 상위 50개 기업 \n",
    "- 기간 : 2020.01 ~ 2022.05  \n",
    "- 기준 : 월말, 1~12월 data same\n",
    "- 단위 : KRW(원)\n"
   ]
  },
  {
   "cell_type": "markdown",
   "metadata": {},
   "source": [
    "O 재무 정보는 재무재표를 기준으로 하고, Feature로 **Asset, Liability, Sale, Income, Price**를 사용한다.\n",
    "\n",
    "- assets : 총자산 \n",
    "- liability : 총부채\n",
    "- sale : 매출액\n",
    "- income : 영업이익\n",
    "- price : 수정주가(배당반영)"
   ]
  },
  {
   "cell_type": "code",
   "execution_count": 5,
   "metadata": {},
   "outputs": [],
   "source": [
    "assets, liability, sale, income, price = [item[1] for item in dtd(\"data2.xlsx\", \"Sheet1\", 5).items()]"
   ]
  },
  {
   "cell_type": "markdown",
   "metadata": {},
   "source": [
    "- 문제는 앞서 말한 주가 정보와 재무재표의 기간이 맞지 않는다는 것인데, 주가 데이터는 당월 종가를 기준으로 하고, 재무제표는 당년 6월에 발표된다고 가정하였다. \n",
    "- 2020년 1월에 투자를 한다고 가정하면, 2019년 6월에 발표된 재무제표를 기준으로 판단할 수 밖에 없기 때문에 price를 shift 해줘 주가 데이터와 재무 정보의 시작점을 같게 한다."
   ]
  },
  {
   "cell_type": "code",
   "execution_count": 6,
   "metadata": {},
   "outputs": [],
   "source": [
    "assets0 = assets.pct_change()\n",
    "liability0 = liability.pct_change()"
   ]
  },
  {
   "cell_type": "code",
   "execution_count": 7,
   "metadata": {},
   "outputs": [],
   "source": [
    "price.shift(12);"
   ]
  },
  {
   "cell_type": "code",
   "execution_count": 8,
   "metadata": {
    "scrolled": true
   },
   "outputs": [
    {
     "data": {
      "text/html": [
       "<div>\n",
       "<style scoped>\n",
       "    .dataframe tbody tr th:only-of-type {\n",
       "        vertical-align: middle;\n",
       "    }\n",
       "\n",
       "    .dataframe tbody tr th {\n",
       "        vertical-align: top;\n",
       "    }\n",
       "\n",
       "    .dataframe thead th {\n",
       "        text-align: right;\n",
       "    }\n",
       "</style>\n",
       "<table border=\"1\" class=\"dataframe\">\n",
       "  <thead>\n",
       "    <tr style=\"text-align: right;\">\n",
       "      <th></th>\n",
       "      <th>삼성전자</th>\n",
       "      <th>SK하이닉스</th>\n",
       "      <th>삼성SDI</th>\n",
       "      <th>현대차</th>\n",
       "      <th>카카오</th>\n",
       "      <th>기아</th>\n",
       "      <th>POSCO홀딩스</th>\n",
       "      <th>현대모비스</th>\n",
       "      <th>한국전력</th>\n",
       "      <th>SK텔레콤</th>\n",
       "      <th>...</th>\n",
       "      <th>기업은행</th>\n",
       "      <th>롯데케미칼</th>\n",
       "      <th>한국조선해양</th>\n",
       "      <th>한온시스템</th>\n",
       "      <th>HLB</th>\n",
       "      <th>CJ ENM</th>\n",
       "      <th>동진쎄미켐</th>\n",
       "      <th>동화기업</th>\n",
       "      <th>네이처셀</th>\n",
       "      <th>주성엔지니어링</th>\n",
       "    </tr>\n",
       "    <tr>\n",
       "      <th>Unnamed: 0</th>\n",
       "      <th></th>\n",
       "      <th></th>\n",
       "      <th></th>\n",
       "      <th></th>\n",
       "      <th></th>\n",
       "      <th></th>\n",
       "      <th></th>\n",
       "      <th></th>\n",
       "      <th></th>\n",
       "      <th></th>\n",
       "      <th></th>\n",
       "      <th></th>\n",
       "      <th></th>\n",
       "      <th></th>\n",
       "      <th></th>\n",
       "      <th></th>\n",
       "      <th></th>\n",
       "      <th></th>\n",
       "      <th></th>\n",
       "      <th></th>\n",
       "      <th></th>\n",
       "    </tr>\n",
       "  </thead>\n",
       "  <tbody>\n",
       "    <tr>\n",
       "      <th>2000-01-31</th>\n",
       "      <td>NaN</td>\n",
       "      <td>NaN</td>\n",
       "      <td>NaN</td>\n",
       "      <td>NaN</td>\n",
       "      <td>NaN</td>\n",
       "      <td>NaN</td>\n",
       "      <td>NaN</td>\n",
       "      <td>NaN</td>\n",
       "      <td>NaN</td>\n",
       "      <td>NaN</td>\n",
       "      <td>...</td>\n",
       "      <td>NaN</td>\n",
       "      <td>NaN</td>\n",
       "      <td>NaN</td>\n",
       "      <td>NaN</td>\n",
       "      <td>NaN</td>\n",
       "      <td>NaN</td>\n",
       "      <td>NaN</td>\n",
       "      <td>NaN</td>\n",
       "      <td>NaN</td>\n",
       "      <td>NaN</td>\n",
       "    </tr>\n",
       "    <tr>\n",
       "      <th>2000-02-29</th>\n",
       "      <td>NaN</td>\n",
       "      <td>NaN</td>\n",
       "      <td>NaN</td>\n",
       "      <td>NaN</td>\n",
       "      <td>NaN</td>\n",
       "      <td>NaN</td>\n",
       "      <td>NaN</td>\n",
       "      <td>NaN</td>\n",
       "      <td>NaN</td>\n",
       "      <td>NaN</td>\n",
       "      <td>...</td>\n",
       "      <td>NaN</td>\n",
       "      <td>NaN</td>\n",
       "      <td>NaN</td>\n",
       "      <td>NaN</td>\n",
       "      <td>NaN</td>\n",
       "      <td>NaN</td>\n",
       "      <td>NaN</td>\n",
       "      <td>NaN</td>\n",
       "      <td>NaN</td>\n",
       "      <td>NaN</td>\n",
       "    </tr>\n",
       "    <tr>\n",
       "      <th>2000-03-31</th>\n",
       "      <td>NaN</td>\n",
       "      <td>NaN</td>\n",
       "      <td>NaN</td>\n",
       "      <td>NaN</td>\n",
       "      <td>NaN</td>\n",
       "      <td>NaN</td>\n",
       "      <td>NaN</td>\n",
       "      <td>NaN</td>\n",
       "      <td>NaN</td>\n",
       "      <td>NaN</td>\n",
       "      <td>...</td>\n",
       "      <td>NaN</td>\n",
       "      <td>NaN</td>\n",
       "      <td>NaN</td>\n",
       "      <td>NaN</td>\n",
       "      <td>NaN</td>\n",
       "      <td>NaN</td>\n",
       "      <td>NaN</td>\n",
       "      <td>NaN</td>\n",
       "      <td>NaN</td>\n",
       "      <td>NaN</td>\n",
       "    </tr>\n",
       "    <tr>\n",
       "      <th>2000-04-30</th>\n",
       "      <td>NaN</td>\n",
       "      <td>NaN</td>\n",
       "      <td>NaN</td>\n",
       "      <td>NaN</td>\n",
       "      <td>NaN</td>\n",
       "      <td>NaN</td>\n",
       "      <td>NaN</td>\n",
       "      <td>NaN</td>\n",
       "      <td>NaN</td>\n",
       "      <td>NaN</td>\n",
       "      <td>...</td>\n",
       "      <td>NaN</td>\n",
       "      <td>NaN</td>\n",
       "      <td>NaN</td>\n",
       "      <td>NaN</td>\n",
       "      <td>NaN</td>\n",
       "      <td>NaN</td>\n",
       "      <td>NaN</td>\n",
       "      <td>NaN</td>\n",
       "      <td>NaN</td>\n",
       "      <td>NaN</td>\n",
       "    </tr>\n",
       "    <tr>\n",
       "      <th>2000-05-31</th>\n",
       "      <td>NaN</td>\n",
       "      <td>NaN</td>\n",
       "      <td>NaN</td>\n",
       "      <td>NaN</td>\n",
       "      <td>NaN</td>\n",
       "      <td>NaN</td>\n",
       "      <td>NaN</td>\n",
       "      <td>NaN</td>\n",
       "      <td>NaN</td>\n",
       "      <td>NaN</td>\n",
       "      <td>...</td>\n",
       "      <td>NaN</td>\n",
       "      <td>NaN</td>\n",
       "      <td>NaN</td>\n",
       "      <td>NaN</td>\n",
       "      <td>NaN</td>\n",
       "      <td>NaN</td>\n",
       "      <td>NaN</td>\n",
       "      <td>NaN</td>\n",
       "      <td>NaN</td>\n",
       "      <td>NaN</td>\n",
       "    </tr>\n",
       "    <tr>\n",
       "      <th>...</th>\n",
       "      <td>...</td>\n",
       "      <td>...</td>\n",
       "      <td>...</td>\n",
       "      <td>...</td>\n",
       "      <td>...</td>\n",
       "      <td>...</td>\n",
       "      <td>...</td>\n",
       "      <td>...</td>\n",
       "      <td>...</td>\n",
       "      <td>...</td>\n",
       "      <td>...</td>\n",
       "      <td>...</td>\n",
       "      <td>...</td>\n",
       "      <td>...</td>\n",
       "      <td>...</td>\n",
       "      <td>...</td>\n",
       "      <td>...</td>\n",
       "      <td>...</td>\n",
       "      <td>...</td>\n",
       "      <td>...</td>\n",
       "      <td>...</td>\n",
       "    </tr>\n",
       "    <tr>\n",
       "      <th>2022-01-31</th>\n",
       "      <td>0.096598</td>\n",
       "      <td>-0.027025</td>\n",
       "      <td>0.093534</td>\n",
       "      <td>0.294771</td>\n",
       "      <td>0.284103</td>\n",
       "      <td>0.260543</td>\n",
       "      <td>0.112072</td>\n",
       "      <td>0.070313</td>\n",
       "      <td>-0.020492</td>\n",
       "      <td>0.045026</td>\n",
       "      <td>...</td>\n",
       "      <td>0.003782</td>\n",
       "      <td>0.008978</td>\n",
       "      <td>0.020595</td>\n",
       "      <td>0.099343</td>\n",
       "      <td>-0.097196</td>\n",
       "      <td>0.043517</td>\n",
       "      <td>0.122576</td>\n",
       "      <td>0.483533</td>\n",
       "      <td>0.048673</td>\n",
       "      <td>0.248111</td>\n",
       "    </tr>\n",
       "    <tr>\n",
       "      <th>2022-02-28</th>\n",
       "      <td>-0.067365</td>\n",
       "      <td>-0.092993</td>\n",
       "      <td>0.138365</td>\n",
       "      <td>0.395263</td>\n",
       "      <td>0.184868</td>\n",
       "      <td>0.050754</td>\n",
       "      <td>-0.046515</td>\n",
       "      <td>0.090025</td>\n",
       "      <td>0.073279</td>\n",
       "      <td>0.124718</td>\n",
       "      <td>...</td>\n",
       "      <td>-0.002512</td>\n",
       "      <td>0.124630</td>\n",
       "      <td>-0.033632</td>\n",
       "      <td>0.295209</td>\n",
       "      <td>0.038276</td>\n",
       "      <td>0.031274</td>\n",
       "      <td>0.050619</td>\n",
       "      <td>-0.092836</td>\n",
       "      <td>0.123418</td>\n",
       "      <td>-0.064293</td>\n",
       "    </tr>\n",
       "    <tr>\n",
       "      <th>2022-03-31</th>\n",
       "      <td>0.084328</td>\n",
       "      <td>0.118508</td>\n",
       "      <td>-0.041989</td>\n",
       "      <td>0.011329</td>\n",
       "      <td>-0.104420</td>\n",
       "      <td>0.104813</td>\n",
       "      <td>0.070547</td>\n",
       "      <td>0.026787</td>\n",
       "      <td>-0.004848</td>\n",
       "      <td>-0.040314</td>\n",
       "      <td>...</td>\n",
       "      <td>-0.009931</td>\n",
       "      <td>0.036941</td>\n",
       "      <td>-0.040603</td>\n",
       "      <td>-0.037232</td>\n",
       "      <td>0.194703</td>\n",
       "      <td>0.198822</td>\n",
       "      <td>-0.106929</td>\n",
       "      <td>-0.083426</td>\n",
       "      <td>-0.075117</td>\n",
       "      <td>0.064243</td>\n",
       "    </tr>\n",
       "    <tr>\n",
       "      <th>2022-04-30</th>\n",
       "      <td>-0.027485</td>\n",
       "      <td>-0.048815</td>\n",
       "      <td>0.019608</td>\n",
       "      <td>-0.078429</td>\n",
       "      <td>-0.094652</td>\n",
       "      <td>0.076757</td>\n",
       "      <td>0.061227</td>\n",
       "      <td>-0.019565</td>\n",
       "      <td>-0.022049</td>\n",
       "      <td>-0.100839</td>\n",
       "      <td>...</td>\n",
       "      <td>0.020062</td>\n",
       "      <td>0.185751</td>\n",
       "      <td>-0.051995</td>\n",
       "      <td>-0.093148</td>\n",
       "      <td>-0.112834</td>\n",
       "      <td>-0.075896</td>\n",
       "      <td>-0.084297</td>\n",
       "      <td>-0.145631</td>\n",
       "      <td>-0.074112</td>\n",
       "      <td>-0.001448</td>\n",
       "    </tr>\n",
       "    <tr>\n",
       "      <th>2022-05-16</th>\n",
       "      <td>0.178450</td>\n",
       "      <td>0.220277</td>\n",
       "      <td>0.205882</td>\n",
       "      <td>0.103342</td>\n",
       "      <td>0.115156</td>\n",
       "      <td>0.144572</td>\n",
       "      <td>0.124995</td>\n",
       "      <td>0.082040</td>\n",
       "      <td>0.075189</td>\n",
       "      <td>0.109794</td>\n",
       "      <td>...</td>\n",
       "      <td>0.138227</td>\n",
       "      <td>0.210298</td>\n",
       "      <td>0.313776</td>\n",
       "      <td>0.343747</td>\n",
       "      <td>-0.009770</td>\n",
       "      <td>0.012930</td>\n",
       "      <td>0.136271</td>\n",
       "      <td>0.242898</td>\n",
       "      <td>0.059211</td>\n",
       "      <td>0.120760</td>\n",
       "    </tr>\n",
       "  </tbody>\n",
       "</table>\n",
       "<p>269 rows × 27 columns</p>\n",
       "</div>"
      ],
      "text/plain": [
       "                삼성전자    SK하이닉스     삼성SDI       현대차       카카오        기아  \\\n",
       "Unnamed: 0                                                               \n",
       "2000-01-31       NaN       NaN       NaN       NaN       NaN       NaN   \n",
       "2000-02-29       NaN       NaN       NaN       NaN       NaN       NaN   \n",
       "2000-03-31       NaN       NaN       NaN       NaN       NaN       NaN   \n",
       "2000-04-30       NaN       NaN       NaN       NaN       NaN       NaN   \n",
       "2000-05-31       NaN       NaN       NaN       NaN       NaN       NaN   \n",
       "...              ...       ...       ...       ...       ...       ...   \n",
       "2022-01-31  0.096598 -0.027025  0.093534  0.294771  0.284103  0.260543   \n",
       "2022-02-28 -0.067365 -0.092993  0.138365  0.395263  0.184868  0.050754   \n",
       "2022-03-31  0.084328  0.118508 -0.041989  0.011329 -0.104420  0.104813   \n",
       "2022-04-30 -0.027485 -0.048815  0.019608 -0.078429 -0.094652  0.076757   \n",
       "2022-05-16  0.178450  0.220277  0.205882  0.103342  0.115156  0.144572   \n",
       "\n",
       "            POSCO홀딩스     현대모비스      한국전력     SK텔레콤  ...      기업은행     롯데케미칼  \\\n",
       "Unnamed: 0                                          ...                       \n",
       "2000-01-31       NaN       NaN       NaN       NaN  ...       NaN       NaN   \n",
       "2000-02-29       NaN       NaN       NaN       NaN  ...       NaN       NaN   \n",
       "2000-03-31       NaN       NaN       NaN       NaN  ...       NaN       NaN   \n",
       "2000-04-30       NaN       NaN       NaN       NaN  ...       NaN       NaN   \n",
       "2000-05-31       NaN       NaN       NaN       NaN  ...       NaN       NaN   \n",
       "...              ...       ...       ...       ...  ...       ...       ...   \n",
       "2022-01-31  0.112072  0.070313 -0.020492  0.045026  ...  0.003782  0.008978   \n",
       "2022-02-28 -0.046515  0.090025  0.073279  0.124718  ... -0.002512  0.124630   \n",
       "2022-03-31  0.070547  0.026787 -0.004848 -0.040314  ... -0.009931  0.036941   \n",
       "2022-04-30  0.061227 -0.019565 -0.022049 -0.100839  ...  0.020062  0.185751   \n",
       "2022-05-16  0.124995  0.082040  0.075189  0.109794  ...  0.138227  0.210298   \n",
       "\n",
       "              한국조선해양     한온시스템       HLB    CJ ENM     동진쎄미켐      동화기업  \\\n",
       "Unnamed: 0                                                               \n",
       "2000-01-31       NaN       NaN       NaN       NaN       NaN       NaN   \n",
       "2000-02-29       NaN       NaN       NaN       NaN       NaN       NaN   \n",
       "2000-03-31       NaN       NaN       NaN       NaN       NaN       NaN   \n",
       "2000-04-30       NaN       NaN       NaN       NaN       NaN       NaN   \n",
       "2000-05-31       NaN       NaN       NaN       NaN       NaN       NaN   \n",
       "...              ...       ...       ...       ...       ...       ...   \n",
       "2022-01-31  0.020595  0.099343 -0.097196  0.043517  0.122576  0.483533   \n",
       "2022-02-28 -0.033632  0.295209  0.038276  0.031274  0.050619 -0.092836   \n",
       "2022-03-31 -0.040603 -0.037232  0.194703  0.198822 -0.106929 -0.083426   \n",
       "2022-04-30 -0.051995 -0.093148 -0.112834 -0.075896 -0.084297 -0.145631   \n",
       "2022-05-16  0.313776  0.343747 -0.009770  0.012930  0.136271  0.242898   \n",
       "\n",
       "                네이처셀   주성엔지니어링  \n",
       "Unnamed: 0                      \n",
       "2000-01-31       NaN       NaN  \n",
       "2000-02-29       NaN       NaN  \n",
       "2000-03-31       NaN       NaN  \n",
       "2000-04-30       NaN       NaN  \n",
       "2000-05-31       NaN       NaN  \n",
       "...              ...       ...  \n",
       "2022-01-31  0.048673  0.248111  \n",
       "2022-02-28  0.123418 -0.064293  \n",
       "2022-03-31 -0.075117  0.064243  \n",
       "2022-04-30 -0.074112 -0.001448  \n",
       "2022-05-16  0.059211  0.120760  \n",
       "\n",
       "[269 rows x 27 columns]"
      ]
     },
     "execution_count": 8,
     "metadata": {},
     "output_type": "execute_result"
    }
   ],
   "source": [
    "price = price.dropna(axis=1)\n",
    "returns = price.shift(12+6).pct_change()\n",
    "\n",
    "returns"
   ]
  },
  {
   "cell_type": "markdown",
   "metadata": {},
   "source": [
    "### Clustering"
   ]
  },
  {
   "cell_type": "code",
   "execution_count": 9,
   "metadata": {},
   "outputs": [],
   "source": [
    "X = pd.DataFrame()\n",
    "for i in range(0,len(assets.index),12):\n",
    "    X = X.append(assets.iloc[i])\n",
    "X"
   ]
  },
  {
   "cell_type": "code",
   "execution_count": 13,
   "metadata": {},
   "outputs": [
    {
     "ename": "NameError",
     "evalue": "name 'plot_dendrogram' is not defined",
     "output_type": "error",
     "traceback": [
      "\u001b[1;31m---------------------------------------------------------------------------\u001b[0m",
      "\u001b[1;31mNameError\u001b[0m                                 Traceback (most recent call last)",
      "\u001b[1;32mC:\\Users\\ADMINI~1\\AppData\\Local\\Temp/ipykernel_32920/4284184477.py\u001b[0m in \u001b[0;36m<module>\u001b[1;34m\u001b[0m\n\u001b[1;32m----> 1\u001b[1;33m ax,an = plot_dendrogram(returns=X, codependence='spearman',\n\u001b[0m\u001b[0;32m      2\u001b[0m                         \u001b[0mlinkage\u001b[0m\u001b[1;33m=\u001b[0m\u001b[1;34m'ward'\u001b[0m\u001b[1;33m,\u001b[0m \u001b[0mk\u001b[0m\u001b[1;33m=\u001b[0m\u001b[1;32mNone\u001b[0m\u001b[1;33m,\u001b[0m \u001b[0mmax_k\u001b[0m\u001b[1;33m=\u001b[0m\u001b[1;36m5\u001b[0m\u001b[1;33m,\u001b[0m\u001b[1;33m\u001b[0m\u001b[1;33m\u001b[0m\u001b[0m\n\u001b[0;32m      3\u001b[0m                         leaf_order=True, ax=None)\n\u001b[0;32m      4\u001b[0m \u001b[0max\u001b[0m\u001b[1;33m;\u001b[0m\u001b[1;33m\u001b[0m\u001b[1;33m\u001b[0m\u001b[0m\n",
      "\u001b[1;31mNameError\u001b[0m: name 'plot_dendrogram' is not defined"
     ]
    }
   ],
   "source": [
    "ax,an = plot_dendrogram(returns=X, codependence='spearman',\n",
    "                        linkage='ward', k=None, max_k=5,\n",
    "                        leaf_order=True, ax=None)\n",
    "ax;"
   ]
  },
  {
   "cell_type": "code",
   "execution_count": 14,
   "metadata": {},
   "outputs": [
    {
     "ename": "NameError",
     "evalue": "name 'an' is not defined",
     "output_type": "error",
     "traceback": [
      "\u001b[1;31m---------------------------------------------------------------------------\u001b[0m",
      "\u001b[1;31mNameError\u001b[0m                                 Traceback (most recent call last)",
      "\u001b[1;32mC:\\Users\\ADMINI~1\\AppData\\Local\\Temp/ipykernel_32920/2415396789.py\u001b[0m in \u001b[0;36m<module>\u001b[1;34m\u001b[0m\n\u001b[1;32m----> 1\u001b[1;33m \u001b[0mcolor\u001b[0m \u001b[1;33m=\u001b[0m \u001b[0mlist\u001b[0m\u001b[1;33m(\u001b[0m\u001b[0mset\u001b[0m\u001b[1;33m(\u001b[0m\u001b[0man\u001b[0m\u001b[1;33m[\u001b[0m\u001b[1;34m'leaves_color_list'\u001b[0m\u001b[1;33m]\u001b[0m\u001b[1;33m)\u001b[0m\u001b[1;33m)\u001b[0m\u001b[1;33m\u001b[0m\u001b[1;33m\u001b[0m\u001b[0m\n\u001b[0m\u001b[0;32m      2\u001b[0m \u001b[0mnew_df\u001b[0m \u001b[1;33m=\u001b[0m \u001b[0mpd\u001b[0m\u001b[1;33m.\u001b[0m\u001b[0mDataFrame\u001b[0m\u001b[1;33m(\u001b[0m\u001b[1;33m)\u001b[0m\u001b[1;33m\u001b[0m\u001b[1;33m\u001b[0m\u001b[0m\n\u001b[0;32m      3\u001b[0m \u001b[0mnew_df\u001b[0m\u001b[1;33m[\u001b[0m\u001b[1;34m'CODE'\u001b[0m\u001b[1;33m]\u001b[0m \u001b[1;33m=\u001b[0m \u001b[0man\u001b[0m\u001b[1;33m[\u001b[0m\u001b[1;34m'leaves'\u001b[0m\u001b[1;33m]\u001b[0m\u001b[1;33m\u001b[0m\u001b[1;33m\u001b[0m\u001b[0m\n\u001b[0;32m      4\u001b[0m \u001b[0mnew_df\u001b[0m\u001b[1;33m[\u001b[0m\u001b[1;34m'SORTED'\u001b[0m\u001b[1;33m]\u001b[0m \u001b[1;33m=\u001b[0m \u001b[0man\u001b[0m\u001b[1;33m[\u001b[0m\u001b[1;34m'leaves_color_list'\u001b[0m\u001b[1;33m]\u001b[0m\u001b[1;33m\u001b[0m\u001b[1;33m\u001b[0m\u001b[0m\n\u001b[0;32m      5\u001b[0m \u001b[0mnew_df\u001b[0m \u001b[1;33m=\u001b[0m \u001b[0mnew_df\u001b[0m\u001b[1;33m.\u001b[0m\u001b[0msort_values\u001b[0m\u001b[1;33m(\u001b[0m\u001b[0mby\u001b[0m\u001b[1;33m=\u001b[0m\u001b[1;33m[\u001b[0m\u001b[1;34m'CODE'\u001b[0m\u001b[1;33m]\u001b[0m\u001b[1;33m)\u001b[0m\u001b[1;33m\u001b[0m\u001b[1;33m\u001b[0m\u001b[0m\n",
      "\u001b[1;31mNameError\u001b[0m: name 'an' is not defined"
     ]
    }
   ],
   "source": [
    "color = list(set(an['leaves_color_list']))\n",
    "new_df = pd.DataFrame()\n",
    "new_df['CODE'] = an['leaves']\n",
    "new_df['SORTED'] = an['leaves_color_list']\n",
    "new_df = new_df.sort_values(by=['CODE'])\n",
    "new_df['COMPANY'] = X.columns\n",
    "li = []\n",
    "for i in color:\n",
    "    li.append(new_df['COMPANY'][new_df['SORTED']==i])\n",
    "\n",
    "len(li[3])"
   ]
  },
  {
   "cell_type": "markdown",
   "metadata": {},
   "source": [
    "### Rolling\n",
    "- Rolling 기간은 122달로 설정하였다."
   ]
  },
  {
   "cell_type": "code",
   "execution_count": null,
   "metadata": {},
   "outputs": [],
   "source": [
    "rolling_period = 122\n",
    "results = {}\n",
    "\n",
    "for col in returns.columns:\n",
    "    reSeries = {}\n",
    "    for n in range(1, returns.shape[0]-rolling_period):\n",
    "        \n",
    "        temp = pd.DataFrame({\"asset\":assets0[col].iloc[n:n+rolling_period-1],\n",
    "                            \"liability\":liability0[col].iloc[n:n+rolling_period-1],\n",
    "                            \"sale\":sale[col].iloc[n:n+rolling_period-1],\n",
    "                            \"income\":income[col].iloc[n:n+rolling_period-1],\n",
    "                             \"re0\": returns[col].iloc[n-1:n+rolling_period-2],\n",
    "                            \"re\": returns[col].iloc[n:n+rolling_period-1]})\n",
    "        print(temp)\n",
    "        temp = temp.dropna()\n",
    "        future = returns[col].iloc[n+120]\n",
    "        \n",
    "        if temp.shape[0] < 50:\n",
    "            continue\n",
    "            \n",
    "        model = DecisionTreeRegressor(max_depth=6)#\n",
    "        model.fit(temp.drop(\"re\", axis=1).iloc[:-1,:], temp[\"re\"].iloc[:-1])\n",
    "        \n",
    "        r = model.predict(temp.drop(\"re\", axis=1).iloc[[-1], :])\n",
    "        \n",
    "        reSeries[temp.index[-1]] = temp[\"re\"].iloc[-1]-r[0]\n",
    "        \n",
    "    if len(reSeries) > 0:\n",
    "        results[col] = pd.Series(reSeries)"
   ]
  },
  {
   "cell_type": "code",
   "execution_count": null,
   "metadata": {},
   "outputs": [],
   "source": [
    "list(li[0])"
   ]
  },
  {
   "cell_type": "code",
   "execution_count": null,
   "metadata": {},
   "outputs": [],
   "source": [
    "r2 = []\n",
    "acc = []\n",
    "\n",
    "for n in range(12, 48):\n",
    "    results = pd.DataFrame(results)\n",
    "    signal = (results).mean(axis=1)\n",
    "\n",
    "    signal = (signal-signal.shift(1).rolling(n).mean())/signal.shift(1).rolling(n).std() #변경 말것!\n",
    "    temp = pd.DataFrame({\"returns\":returns.shift(-1).mean(axis=1), \"result\":signal}).dropna()\n",
    "\n",
    "    test = temp.iloc[int(temp.shape[0]/4):2*int(temp.shape[0]/4), :]\n",
    "    test0 = temp.iloc[2*int(temp.shape[0]/4):, :]\n",
    "    \n",
    "    training = temp.iloc[:int(temp.shape[0]/4), :]\n",
    "\n",
    "    mu = training.result.mean()\n",
    "    sd = training.result.std()\n",
    "\n",
    "    test.result = (test.result-mu)/sd\n",
    "    test0.result = (test0.result-mu)/sd\n",
    "    training.result = (training.result - mu) /sd\n",
    "\n",
    "    test[\"returns+\"] = np.where(test[\"returns\"] > 0, test[\"returns\"], 0)\n",
    "    test0[\"returns+\"] = np.where(test0[\"returns\"] > 0, test0[\"returns\"], 0)\n",
    "\n",
    "    test[\"port\"] = test[\"returns\"] * np.where(-test.result>2, 1, 0)\n",
    "    test0[\"port\"] = test0[\"returns\"] *np.where(-test0.result>2, 1, 0)\n",
    "    \n",
    "    acc.append(accuracy_score(np.where(test.returns>0, 1, 0), np.where(-test.result>0, 1, 0)))\n",
    "\n",
    "    from sklearn.metrics import accuracy_score\n",
    "\n",
    "    print(f\"{np.corrcoef(test.returns, -test.result)[1,0 ] ** 2 * 100:.4f}%\")\n",
    "    r2.append(np.corrcoef(test.returns, -test.result)[1,0 ] ** 2)"
   ]
  },
  {
   "cell_type": "code",
   "execution_count": null,
   "metadata": {},
   "outputs": [],
   "source": [
    "pd.Series(r2, index=range(12, 48)).argmax()+12"
   ]
  },
  {
   "cell_type": "code",
   "execution_count": null,
   "metadata": {},
   "outputs": [],
   "source": [
    "plt.plot(range(12, 48), r2)"
   ]
  },
  {
   "cell_type": "code",
   "execution_count": null,
   "metadata": {},
   "outputs": [],
   "source": [
    "n = 33\n",
    "\n",
    "results = pd.DataFrame(results)\n",
    "\n",
    "signal = (results).mean(axis=1)\n",
    "#\n",
    "signal = (signal-signal.shift(1).rolling(n).mean())/signal.shift(1).rolling(n).std() #변경 말것!\n",
    "temp = pd.DataFrame({\"returns\":returns.shift(-1).mean(axis=1), \"result\":signal}).dropna()\n",
    "test = temp.iloc[int(temp.shape[0]/4):2*int(temp.shape[0]/4), :]\n",
    "test0 = temp.iloc[2*int(temp.shape[0]/4):, :]\n",
    "\n",
    "mu = temp.result.iloc[:int(temp.shape[0]/4)].mean()\n",
    "sd = temp.result.iloc[:int(temp.shape[0]/4)].std()\n",
    "\n",
    "test.result = (test.result-mu)/sd\n",
    "\n",
    "test0.result = (test0.result-mu)/sd\n",
    "\n",
    "\n",
    "test[\"returns+\"] = np.where(test[\"returns\"] > 0, test[\"returns\"], 0)\n",
    "test0[\"returns+\"] = np.where(test0[\"returns\"] > 0, test0[\"returns\"], 0)\n",
    "\n",
    "test[\"port\"] = test[\"returns\"] * -1*test.result#np.where(-1*test.result >0,, 0)\n",
    "test0[\"port\"] = test0[\"returns\"] * np.where( -1*test0.result > 0, 1, 0)\n",
    "\n",
    "from sklearn.metrics import classification_report\n",
    "\n",
    "print(f\"{np.corrcoef(test.returns, -test.result)[1,0 ] ** 2 * 100:.4f}%\")\n",
    "    \n",
    "print(classification_report(np.where(test.returns> 0, 1, 0), np.where(-test.result >0, 1, 0)))"
   ]
  },
  {
   "cell_type": "code",
   "execution_count": null,
   "metadata": {},
   "outputs": [],
   "source": [
    "print(f\"{np.corrcoef(test0.returns, -test0.result)[1,0 ] ** 2 * 100:.4f}%\")\n",
    "    \n",
    "print(classification_report(np.where(test0.returns> 0, 1, 0), np.where(-test0.result >0, 1, 0)))"
   ]
  },
  {
   "cell_type": "code",
   "execution_count": null,
   "metadata": {},
   "outputs": [],
   "source": [
    "plt.plot(test0.result,test0.returns, \"o\")"
   ]
  },
  {
   "cell_type": "code",
   "execution_count": null,
   "metadata": {},
   "outputs": [],
   "source": [
    "plt.plot((1+test0[\"port\"]*1).cumprod())\n",
    "plt.plot((1+test0.returns*1).cumprod())"
   ]
  },
  {
   "cell_type": "code",
   "execution_count": null,
   "metadata": {},
   "outputs": [],
   "source": [
    "plt.plot(test0.returns ,test0[\"port\"], \"o\")"
   ]
  },
  {
   "cell_type": "code",
   "execution_count": null,
   "metadata": {},
   "outputs": [],
   "source": [
    "print(test0[\"port\"].mean() * np.sqrt(12)/ test0[\"port\"].std())\n",
    "print(test0[\"returns\"].mean() * np.sqrt(12)/ test0[\"returns\"].std())"
   ]
  },
  {
   "cell_type": "code",
   "execution_count": null,
   "metadata": {},
   "outputs": [],
   "source": [
    "test0.corr()"
   ]
  },
  {
   "cell_type": "code",
   "execution_count": 10,
   "metadata": {
    "scrolled": true
   },
   "outputs": [
    {
     "ename": "NameError",
     "evalue": "name 'test0' is not defined",
     "output_type": "error",
     "traceback": [
      "\u001b[1;31m---------------------------------------------------------------------------\u001b[0m",
      "\u001b[1;31mNameError\u001b[0m                                 Traceback (most recent call last)",
      "\u001b[1;32mC:\\Users\\ADMINI~1\\AppData\\Local\\Temp/ipykernel_32920/2903309345.py\u001b[0m in \u001b[0;36m<module>\u001b[1;34m\u001b[0m\n\u001b[1;32m----> 1\u001b[1;33m \u001b[0msm\u001b[0m\u001b[1;33m.\u001b[0m\u001b[0mOLS\u001b[0m\u001b[1;33m(\u001b[0m\u001b[0mtest0\u001b[0m\u001b[1;33m[\u001b[0m\u001b[1;34m\"port\"\u001b[0m\u001b[1;33m]\u001b[0m\u001b[1;33m,\u001b[0m \u001b[0msm\u001b[0m\u001b[1;33m.\u001b[0m\u001b[0madd_constant\u001b[0m\u001b[1;33m(\u001b[0m\u001b[0mtest0\u001b[0m\u001b[1;33m[\u001b[0m\u001b[1;33m[\u001b[0m\u001b[1;34m\"returns\"\u001b[0m\u001b[1;33m,\u001b[0m \u001b[1;34m\"returns+\"\u001b[0m\u001b[1;33m]\u001b[0m\u001b[1;33m]\u001b[0m\u001b[1;33m)\u001b[0m\u001b[1;33m)\u001b[0m\u001b[1;33m.\u001b[0m\u001b[0mfit\u001b[0m\u001b[1;33m(\u001b[0m\u001b[1;33m)\u001b[0m\u001b[1;33m.\u001b[0m\u001b[0msummary\u001b[0m\u001b[1;33m(\u001b[0m\u001b[1;33m)\u001b[0m\u001b[1;33m\u001b[0m\u001b[1;33m\u001b[0m\u001b[0m\n\u001b[0m",
      "\u001b[1;31mNameError\u001b[0m: name 'test0' is not defined"
     ]
    }
   ],
   "source": [
    "sm.OLS(test0[\"port\"], sm.add_constant(test0[[\"returns\", \"returns+\"]])).fit().summary()"
   ]
  },
  {
   "cell_type": "code",
   "execution_count": 11,
   "metadata": {},
   "outputs": [
    {
     "ename": "NameError",
     "evalue": "name 'test0' is not defined",
     "output_type": "error",
     "traceback": [
      "\u001b[1;31m---------------------------------------------------------------------------\u001b[0m",
      "\u001b[1;31mNameError\u001b[0m                                 Traceback (most recent call last)",
      "\u001b[1;32mC:\\Users\\ADMINI~1\\AppData\\Local\\Temp/ipykernel_32920/872503089.py\u001b[0m in \u001b[0;36m<module>\u001b[1;34m\u001b[0m\n\u001b[1;32m----> 1\u001b[1;33m \u001b[0mplt\u001b[0m\u001b[1;33m.\u001b[0m\u001b[0mplot\u001b[0m\u001b[1;33m(\u001b[0m\u001b[1;33m(\u001b[0m\u001b[1;36m1\u001b[0m\u001b[1;33m+\u001b[0m\u001b[0mtest0\u001b[0m\u001b[1;33m[\u001b[0m\u001b[1;34m\"returns\"\u001b[0m\u001b[1;33m]\u001b[0m\u001b[1;33m)\u001b[0m\u001b[1;33m.\u001b[0m\u001b[0mcumprod\u001b[0m\u001b[1;33m(\u001b[0m\u001b[1;33m)\u001b[0m\u001b[1;33m)\u001b[0m\u001b[1;33m\u001b[0m\u001b[1;33m\u001b[0m\u001b[0m\n\u001b[0m",
      "\u001b[1;31mNameError\u001b[0m: name 'test0' is not defined"
     ]
    }
   ],
   "source": [
    "plt.plot((1+test0[\"returns\"]).cumprod())"
   ]
  },
  {
   "cell_type": "code",
   "execution_count": 22,
   "metadata": {},
   "outputs": [
    {
     "data": {
      "text/plain": [
       "0.6491228070175439"
      ]
     },
     "execution_count": 22,
     "metadata": {},
     "output_type": "execute_result"
    }
   ],
   "source": [
    "np.mean(np.where(test0[\"returns\"]>0, 1, 0))"
   ]
  },
  {
   "cell_type": "code",
   "execution_count": 23,
   "metadata": {},
   "outputs": [],
   "source": [
    "from itertools import combinations as c\n",
    "\n",
    "def estimation(bench, port):\n",
    "    n0 = 0\n",
    "    n = 0\n",
    "    for t1, t2, t3 in c(range(len(bench)), 3):\n",
    "        n0 += 1 \n",
    "        rms = bench.iloc[[t1, t2, t3]].sort_values() \n",
    "        trueT1, trueT2, trueT3 = rms.index \n",
    "        betaH = (port.loc[trueT3] - port.loc[trueT2]) / (bench.loc[trueT3] - bench.loc[trueT2]) \n",
    "        betaL = (port.loc[trueT2] - port.loc[trueT1]) / (bench.loc[trueT2] - bench.loc[trueT1])\n",
    "        \n",
    "        if betaH > betaL:       \n",
    "            n += 1          \n",
    "    return 2*(n / n0) -1\n",
    "          \n",
    "def kernel(rms, ris):\n",
    "    \n",
    "    rm1, rm2, rm3 = rms\n",
    "    ri1, ri2, ri3 = ris   \n",
    "    premise = rm1 < rm2 and rm2 < rm3\n",
    "    \n",
    "    if not premise:       \n",
    "        return 0\n",
    "    \n",
    "    betaH = (ri3 - ri2) / (rm3 - rm2)        \n",
    "    betaL = (ri2 - ri1) / (rm2 - rm1)\n",
    "    conclusion = betaH > betaL\n",
    "       \n",
    "    if  premise and not conclusion:       \n",
    "        return 0   \n",
    "    else:\n",
    "      \n",
    "        return 1\n",
    "\n",
    "def stanardE(bench, port, esti):\n",
    "    sum0 = 0\n",
    "    for t1 in bench.index:   \n",
    "        sum1 = 0     \n",
    "        n0 = 0    \n",
    "        for t2, t3 in c(bench.index, 2):            \n",
    "            n0 += 1           \n",
    "            sum1 += kernel(bench.loc[[t1, t2, t3]], port.loc[[t1, t2, t3]])\n",
    "        sum1 = (sum1 / n0 - esti) ** 2       \n",
    "        sum0 += sum1\n",
    "    var = 9 / len(bench.index) * sum0\n",
    "    return np.sqrt(var)\n",
    "    \n",
    "from scipy.stats import norm\n",
    "\n",
    "def nonParaMT(bench, port):\n",
    "    \n",
    "    esti = estimation(bench, port)\n",
    "    se = stanardE(bench, port, esti)\n",
    "    statistic = esti * np.sqrt(len(bench)) /se\n",
    "    pVal = 1 - norm.cdf(statistic, loc=0, scale=1)\n",
    "    return esti, se , statistic, pVal"
   ]
  },
  {
   "cell_type": "code",
   "execution_count": 24,
   "metadata": {},
   "outputs": [
    {
     "data": {
      "text/plain": [
       "(-0.25037593984962403,\n",
       " 0.9963193242547572,\n",
       " -1.8972801655271554,\n",
       " 0.9711045143312425)"
      ]
     },
     "execution_count": 24,
     "metadata": {},
     "output_type": "execute_result"
    }
   ],
   "source": [
    "nonParaMT(test0[\"returns\"], test0[\"port\"])"
   ]
  }
 ],
 "metadata": {
  "interpreter": {
   "hash": "57bc2b6ce032b5f0e93daa91901b7ea38a856826ef43aa9e95b6d3999f5310df"
  },
  "kernelspec": {
   "display_name": "Python 3.9.7 ('base')",
   "language": "python",
   "name": "python3"
  },
  "language_info": {
   "codemirror_mode": {
    "name": "ipython",
    "version": 3
   },
   "file_extension": ".py",
   "mimetype": "text/x-python",
   "name": "python",
   "nbconvert_exporter": "python",
   "pygments_lexer": "ipython3",
   "version": "3.9.7"
  }
 },
 "nbformat": 4,
 "nbformat_minor": 4
}
