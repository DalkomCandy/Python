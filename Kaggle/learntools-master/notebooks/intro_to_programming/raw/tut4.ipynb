{
 "cells": [
  {
   "cell_type": "markdown",
   "metadata": {},
   "source": [
    "# Introduction\n",
    "\n",
    "You have already seen that when you change the input value to a function, you often get a different output.  For instance, consider an `add_five()` function that just adds five to any number and returns the result.  Then `add_five(7)` will return an output of 12 (=7+5), and `add_five(8)` will return an output of 13 (=8+5).  Note that no matter what the input is, the action that the function performs is always the same: it always adds five.\n",
    "\n",
    "But you might instead need a function that performs an action that depends on the output.  For instance, you might need a function `add_three_or_eight()` that adds three if the input is less than 10, and adds eight if the input is 10 or more.  Then `add_three_or_eight(1)` will return 4 (= 1+3), but `add_three_or_eight(11)` will return 19 (=11+8).  In this case, the action that the function performs varies with the input.\n",
    "\n",
    "In this lesson, you will learn how to use conditions and conditional statements to modify how your functions run.\n",
    "\n",
    "# Conditions\n",
    "\n",
    "In programming, **conditions** are statements that are either `True` or `False`.  There are many different ways to write conditions in Python, but some of the most common ways of writing conditions just compare two different values.  For instance, you can check if 2 is greater than 3."
   ]
  },
  {
   "cell_type": "code",
   "execution_count": null,
   "metadata": {
    "execution": {
     "iopub.execute_input": "2022-03-14T18:49:02.822463Z",
     "iopub.status.busy": "2022-03-14T18:49:02.822109Z",
     "iopub.status.idle": "2022-03-14T18:49:02.854066Z",
     "shell.execute_reply": "2022-03-14T18:49:02.853294Z",
     "shell.execute_reply.started": "2022-03-14T18:49:02.822378Z"
    }
   },
   "outputs": [],
   "source": [
    "print(2 > 3)"
   ]
  },
  {
   "cell_type": "markdown",
   "metadata": {},
   "source": [
    "Python identifies this as False, since 2 is not greater than 3.\n",
    "\n",
    "You can also use conditions to compare the values of variables.  In the next code cell, `var_one` has a value of 1, and `var_two` has a value of two.  In the conditions, we check if `var_one` is less than 1 (which is `False`), and we check if `var_two` is greater than or equal to `var_one` (which is `True`)."
   ]
  },
  {
   "cell_type": "code",
   "execution_count": null,
   "metadata": {
    "execution": {
     "iopub.execute_input": "2022-03-14T18:49:02.856193Z",
     "iopub.status.busy": "2022-03-14T18:49:02.855721Z",
     "iopub.status.idle": "2022-03-14T18:49:02.861321Z",
     "shell.execute_reply": "2022-03-14T18:49:02.860403Z",
     "shell.execute_reply.started": "2022-03-14T18:49:02.856158Z"
    }
   },
   "outputs": [],
   "source": [
    "var_one = 1\n",
    "var_two = 2\n",
    "\n",
    "print(var_one < 1)\n",
    "print(var_two >= var_one)"
   ]
  },
  {
   "cell_type": "markdown",
   "metadata": {},
   "source": [
    "For a list of common symbols you can use to construct conditions, check out the chart below.\n",
    "\n",
    "<table style=\"width: 100%;\">\n",
    "<tbody>\n",
    "<tr><th><b>Symbol</b></th><th><b>Meaning</b></th></tr>\n",
    "<tr>\n",
    "<td>==</td>\n",
    "<td>equals</td>\n",
    "</tr>\n",
    "<tr>\n",
    "<td>!=</td>\n",
    "<td>does not equal</td>\n",
    "</tr>\n",
    "<tr>\n",
    "<td>&#60;</td>\n",
    "<td>less than</td>\n",
    "</tr>\n",
    "<tr>\n",
    "<td>&#60;=</td>\n",
    "<td>less than or equal to</td>\n",
    "</tr>\n",
    "<tr>\n",
    "<td>&#62;</td>\n",
    "<td>greater than</td>\n",
    "</tr>\n",
    "<tr>\n",
    "<td>&#62;=</td>\n",
    "<td>greater than or equal to</td>\n",
    "</tr>\n",
    "</tbody>\n",
    "</table>"
   ]
  },
  {
   "cell_type": "markdown",
   "metadata": {},
   "source": [
    "**Important Note**: When you check two values are equal, make sure you use the == sign, and not the = sign.  \n",
    "- `var_one==1` checks if the value of `var_one` is 1, but \n",
    "- `var_one=1` sets the value of `var_one` to 1."
   ]
  },
  {
   "cell_type": "markdown",
   "metadata": {},
   "source": [
    "# Conditional statements\n",
    "\n",
    "**Conditional statements** use conditions to modify how your function runs.  They check if the value of a condition, and if the condition evaluates to `True`, then a certain block of code is executed.  (Otherwise, if the condition is `False`, then the code is not run.)  \n",
    "\n",
    "You will see several examples of this in the following sections.\n",
    "\n",
    "## \"if\" statements\n",
    "\n",
    "The simplest type of conditional statement is an \"if\" statement.  You can see an example of this in the `print_outcome()` function below.  The function compares your score (`your_score`) to an opponent's score (`opponent_score`) at the end of a game, and prints a message `You won! Congratulations!` if your score is larger."
   ]
  },
  {
   "cell_type": "code",
   "execution_count": null,
   "metadata": {
    "execution": {
     "iopub.execute_input": "2022-03-14T18:49:02.863228Z",
     "iopub.status.busy": "2022-03-14T18:49:02.862629Z",
     "iopub.status.idle": "2022-03-14T18:49:02.875031Z",
     "shell.execute_reply": "2022-03-14T18:49:02.874011Z",
     "shell.execute_reply.started": "2022-03-14T18:49:02.863181Z"
    }
   },
   "outputs": [],
   "source": [
    "def print_outcome(your_score, opponent_score):\n",
    "    if your_score > opponent_score:\n",
    "        print(\"You won!  Congratulations!\")"
   ]
  },
  {
   "cell_type": "markdown",
   "metadata": {},
   "source": [
    "In the next code cell, we call the function, where your score (21) is greater than the opponent's score (10).  In this case, the message is printed, because `your_score > opponent_score` evaluates to `True` in this case.  "
   ]
  },
  {
   "cell_type": "code",
   "execution_count": null,
   "metadata": {
    "execution": {
     "iopub.execute_input": "2022-03-14T18:49:02.876814Z",
     "iopub.status.busy": "2022-03-14T18:49:02.876461Z",
     "iopub.status.idle": "2022-03-14T18:49:02.890687Z",
     "shell.execute_reply": "2022-03-14T18:49:02.889992Z",
     "shell.execute_reply.started": "2022-03-14T18:49:02.876778Z"
    }
   },
   "outputs": [],
   "source": [
    "print_outcome(21, 10)"
   ]
  },
  {
   "cell_type": "markdown",
   "metadata": {},
   "source": [
    "However, if your score (15) is less than the opponent's score (19), then nothing is printed."
   ]
  },
  {
   "cell_type": "code",
   "execution_count": null,
   "metadata": {
    "execution": {
     "iopub.execute_input": "2022-03-14T18:49:02.893471Z",
     "iopub.status.busy": "2022-03-14T18:49:02.892747Z",
     "iopub.status.idle": "2022-03-14T18:49:02.903372Z",
     "shell.execute_reply": "2022-03-14T18:49:02.902261Z",
     "shell.execute_reply.started": "2022-03-14T18:49:02.893429Z"
    }
   },
   "outputs": [],
   "source": [
    "print_outcome(15, 19)"
   ]
  },
  {
   "cell_type": "markdown",
   "metadata": {},
   "source": [
    "Note that there are two levels of indentation:\n",
    "- The first level of indentation is because we always need to indent the code block inside a function.\n",
    "- The second level of indentation is because we also need to indent the code block inside an \"if\" statement."
   ]
  },
  {
   "cell_type": "markdown",
   "metadata": {},
   "source": [
    "## \"if ... else\" statements\n",
    "\n",
    "We can use \"else\" statements to run code if a statement is False.  The code under the \"if\" statement is run if the statement is `True`, and the code under \"else\" is run if the statement is `False`."
   ]
  },
  {
   "cell_type": "code",
   "execution_count": null,
   "metadata": {
    "execution": {
     "iopub.execute_input": "2022-03-14T18:49:02.905139Z",
     "iopub.status.busy": "2022-03-14T18:49:02.904890Z",
     "iopub.status.idle": "2022-03-14T18:49:02.916910Z",
     "shell.execute_reply": "2022-03-14T18:49:02.915932Z",
     "shell.execute_reply.started": "2022-03-14T18:49:02.905110Z"
    }
   },
   "outputs": [],
   "source": [
    "def print_outcome_two(your_score, opponent_score):\n",
    "    if your_score > opponent_score:\n",
    "        print(\"You won!  Congratulations!\")\n",
    "    else:\n",
    "        print(\"Better luck next time!\")"
   ]
  },
  {
   "cell_type": "markdown",
   "metadata": {},
   "source": [
    "In the next code cell, we call the function, where your score (15) is less than the opponent's score (19).  In this case, `your_score > opponent_score` evaluates to `False`, so the code under the \"else\" statement is executed, and the `Better luck next time!` message is printed."
   ]
  },
  {
   "cell_type": "code",
   "execution_count": null,
   "metadata": {
    "execution": {
     "iopub.execute_input": "2022-03-14T18:49:02.918375Z",
     "iopub.status.busy": "2022-03-14T18:49:02.918130Z",
     "iopub.status.idle": "2022-03-14T18:49:02.930878Z",
     "shell.execute_reply": "2022-03-14T18:49:02.930242Z",
     "shell.execute_reply.started": "2022-03-14T18:49:02.918344Z"
    }
   },
   "outputs": [],
   "source": [
    "print_outcome_two(15, 19)"
   ]
  },
  {
   "cell_type": "markdown",
   "metadata": {},
   "source": [
    "As with the previous function, we indent the code blocks after the \"if\" and \"else\" statements.  \n",
    "\n",
    "## \"if ... elif ... else\" statements\n",
    "\n",
    "We can use \"elif\" (which is short for \"else if\") to check if multiple conditions might be true.  The function below:\n",
    "- first checks if `your_score > opponent_score`.  If this is true, then the `You won!  Congratulations!` message is printed.\n",
    "- if the message was not printed, it then checks if `your_score < opponent_score`.  If this is true, then the `Better luck next time!` message is printed.\n",
    "- then, if no message has been printed yet, the \"else\" statement ensures that the final `The game was tied!` message is printed.\n",
    "\n",
    "You can think of \"elif\" as saying ... \"okay, that previous condition (e.g., `your_score > opponent_score`) was false, so let's check if this new condition (e.g., `your_score < opponent_score`) might be true!\""
   ]
  },
  {
   "cell_type": "code",
   "execution_count": null,
   "metadata": {
    "execution": {
     "iopub.execute_input": "2022-03-14T18:49:02.932784Z",
     "iopub.status.busy": "2022-03-14T18:49:02.932125Z",
     "iopub.status.idle": "2022-03-14T18:49:02.944395Z",
     "shell.execute_reply": "2022-03-14T18:49:02.943191Z",
     "shell.execute_reply.started": "2022-03-14T18:49:02.932743Z"
    }
   },
   "outputs": [],
   "source": [
    "def print_outcome_three(your_score, opponent_score):\n",
    "    if your_score > opponent_score:\n",
    "        print(\"You won!  Congratulations!\")\n",
    "    elif your_score < opponent_score:\n",
    "        print(\"Better luck next time!\")\n",
    "    else:\n",
    "        print(\"The game was tied!\")"
   ]
  },
  {
   "cell_type": "markdown",
   "metadata": {},
   "source": [
    "In the code cell below, we run the code under the \"elif\" statement, because `your_score < opponent_score` evalues to `True`."
   ]
  },
  {
   "cell_type": "code",
   "execution_count": null,
   "metadata": {
    "execution": {
     "iopub.execute_input": "2022-03-14T18:49:02.946302Z",
     "iopub.status.busy": "2022-03-14T18:49:02.946057Z",
     "iopub.status.idle": "2022-03-14T18:49:02.958305Z",
     "shell.execute_reply": "2022-03-14T18:49:02.957449Z",
     "shell.execute_reply.started": "2022-03-14T18:49:02.946271Z"
    }
   },
   "outputs": [],
   "source": [
    "print_outcome_three(19, 20)"
   ]
  },
  {
   "cell_type": "markdown",
   "metadata": {},
   "source": [
    "Finally, we try out a case where your score and the opponent's score are equal.  Since the conditionals in the \"if\" and \"elif\" statements both evalueate to `False`, the code block inside the \"else\" statement is executed."
   ]
  },
  {
   "cell_type": "code",
   "execution_count": null,
   "metadata": {
    "execution": {
     "iopub.execute_input": "2022-03-14T18:49:02.960043Z",
     "iopub.status.busy": "2022-03-14T18:49:02.959787Z",
     "iopub.status.idle": "2022-03-14T18:49:02.972632Z",
     "shell.execute_reply": "2022-03-14T18:49:02.971734Z",
     "shell.execute_reply.started": "2022-03-14T18:49:02.960009Z"
    }
   },
   "outputs": [],
   "source": [
    "print_outcome_three(20, 20)"
   ]
  },
  {
   "cell_type": "markdown",
   "metadata": {},
   "source": [
    "# Another example\n",
    "\n",
    "In the examples so far, conditional statements were used to decide whether or not to print text.  But you can also use conditional statements to return variables.\n",
    "\n",
    "In this next example, say you live in a country with only two tax brackets.  Everyone earning less than 12,000 pays 25% in taxes, and anyone earning 12,000 or more pays 30%.  The function below calculates how much tax is owed."
   ]
  },
  {
   "cell_type": "code",
   "execution_count": null,
   "metadata": {
    "execution": {
     "iopub.execute_input": "2022-03-14T18:49:02.973984Z",
     "iopub.status.busy": "2022-03-14T18:49:02.973731Z",
     "iopub.status.idle": "2022-03-14T18:49:02.983563Z",
     "shell.execute_reply": "2022-03-14T18:49:02.982623Z",
     "shell.execute_reply.started": "2022-03-14T18:49:02.973954Z"
    }
   },
   "outputs": [],
   "source": [
    "def get_taxes(earnings):\n",
    "    if earnings < 12000:\n",
    "        return (.25 * earnings)\n",
    "    else:\n",
    "        return (.30 * earnings)"
   ]
  },
  {
   "cell_type": "markdown",
   "metadata": {},
   "source": [
    "The next code cell uses the function."
   ]
  },
  {
   "cell_type": "code",
   "execution_count": null,
   "metadata": {
    "execution": {
     "iopub.execute_input": "2022-03-14T18:49:02.988005Z",
     "iopub.status.busy": "2022-03-14T18:49:02.987764Z",
     "iopub.status.idle": "2022-03-14T18:49:02.999388Z",
     "shell.execute_reply": "2022-03-14T18:49:02.998678Z",
     "shell.execute_reply.started": "2022-03-14T18:49:02.987976Z"
    }
   },
   "outputs": [],
   "source": [
    "ana_taxes = get_taxes(9000)\n",
    "bob_taxes = get_taxes(15000)\n",
    "\n",
    "print(ana_taxes)\n",
    "print(bob_taxes)"
   ]
  },
  {
   "cell_type": "markdown",
   "metadata": {},
   "source": [
    "In each case, we call the `get_taxes()` function and use the value that is returned to set the value of a variable.\n",
    "- For `ana_taxes`, we calculate taxes owed by a person who earns 9,000.  In this case, we call the `get_taxes()` function with `earnings` set to `9000`.  Thus, `earnings < 12000` is `True`, and the value returned is `.25 * 9000`.\n",
    "- For `bob_taxes`, we calculate taxes owed by a person who earns 15,000.  In this case, we call the `get_taxes()` function with `earnings` set to `15000`.  Thus, `earnings < 12000` is `False`, and the value returned is `.30 * 15000`.\n",
    "\n",
    "Take the time to make sure that this makes sense to you.  \n",
    "\n",
    "Then, a final check - remember the `add_three_or_eight()` function from the introduction?  It accepts a number as input and adds three if the input is less than 10, and otherwise adds eight.  Can you figure out how you would write this function?  Once you have an answer, click on the \"Show hidden code\" button below to see the solution."
   ]
  },
  {
   "cell_type": "code",
   "execution_count": null,
   "metadata": {},
   "outputs": [],
   "source": [
    "#$HIDE_INPUT$\n",
    "def add_three_or_eight(number):\n",
    "    if number < 10:\n",
    "        return number + 3\n",
    "    else:\n",
    "        return number + 8"
   ]
  },
  {
   "cell_type": "markdown",
   "metadata": {},
   "source": [
    "Once you're ready, use the link below to move on to the exercise.\n",
    "\n",
    "# Your turn\n",
    "\n",
    "Use what you have learned to **[write your own conditionals and conditional statements](#$NEXT_NOTEBOOK_URL$)**."
   ]
  }
 ],
 "metadata": {
  "kernelspec": {
   "display_name": "Python 3",
   "language": "python",
   "name": "python3"
  },
  "language_info": {
   "codemirror_mode": {
    "name": "ipython",
    "version": 3
   },
   "file_extension": ".py",
   "mimetype": "text/x-python",
   "name": "python",
   "nbconvert_exporter": "python",
   "pygments_lexer": "ipython3",
   "version": "3.6.5"
  }
 },
 "nbformat": 4,
 "nbformat_minor": 4
}
